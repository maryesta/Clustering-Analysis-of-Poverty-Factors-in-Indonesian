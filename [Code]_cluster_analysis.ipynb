{
  "cells": [
    {
      "cell_type": "code",
      "execution_count": null,
      "metadata": {
        "vscode": {
          "languageId": "r"
        },
        "colab": {
          "base_uri": "https://localhost:8080/"
        },
        "id": "rCkotzKE-RxQ",
        "outputId": "5a694cd2-f65d-460c-a645-2fbb75480a6f"
      },
      "outputs": [
        {
          "output_type": "stream",
          "name": "stderr",
          "text": [
            "Installing package into ‘/usr/local/lib/R/site-library’\n",
            "(as ‘lib’ is unspecified)\n",
            "\n",
            "also installing the dependencies ‘pixmap’, ‘sp’, ‘RcppArmadillo’, ‘proxy’, ‘ade4’, ‘e1071’\n",
            "\n",
            "\n"
          ]
        }
      ],
      "source": [
        "install.packages('clusterSim')"
      ]
    },
    {
      "cell_type": "code",
      "execution_count": null,
      "metadata": {
        "vscode": {
          "languageId": "r"
        },
        "colab": {
          "base_uri": "https://localhost:8080/",
          "height": 456
        },
        "id": "d27OYbvh-RxU",
        "outputId": "d9d0648a-a5cb-4e43-83e0-372e714f11bb"
      },
      "outputs": [
        {
          "output_type": "stream",
          "name": "stderr",
          "text": [
            "\n",
            "Attaching package: ‘dplyr’\n",
            "\n",
            "\n",
            "The following object is masked from ‘package:MASS’:\n",
            "\n",
            "    select\n",
            "\n",
            "\n",
            "The following objects are masked from ‘package:stats’:\n",
            "\n",
            "    filter, lag\n",
            "\n",
            "\n",
            "The following objects are masked from ‘package:base’:\n",
            "\n",
            "    intersect, setdiff, setequal, union\n",
            "\n",
            "\n"
          ]
        },
        {
          "output_type": "error",
          "ename": "ERROR",
          "evalue": "Error in library(pdfCluster): there is no package called ‘pdfCluster’\n",
          "traceback": [
            "Error in library(pdfCluster): there is no package called ‘pdfCluster’\nTraceback:\n",
            "1. stop(packageNotFoundError(package, lib.loc, sys.call()))"
          ]
        }
      ],
      "source": [
        "library(cluster)\n",
        "library(stats)\n",
        "library(MASS)\n",
        "library(ggplot2)\n",
        "library(dplyr)\n",
        "library(tidyr)\n",
        "library(pdfCluster)\n",
        "library(factoextra)\n",
        "library(gridExtra)\n",
        "library(GGally)\n",
        "library(mclust)\n",
        "library(aricode)\n",
        "library(ppclust)\n",
        "library(clusterSim)"
      ]
    },
    {
      "cell_type": "code",
      "execution_count": null,
      "metadata": {
        "vscode": {
          "languageId": "r"
        },
        "id": "KmLfPZ8f-RxW",
        "outputId": "033bbcf7-818c-4e0e-d498-825ca1108042"
      },
      "outputs": [
        {
          "data": {
            "text/html": [
              "<table class=\"dataframe\">\n",
              "<caption>A data.frame: 6 × 13</caption>\n",
              "<thead>\n",
              "\t<tr><th></th><th scope=col>Provinsi</th><th scope=col>Kab.Kota</th><th scope=col>x1</th><th scope=col>x2</th><th scope=col>x3</th><th scope=col>x4</th><th scope=col>x5</th><th scope=col>x6</th><th scope=col>x7</th><th scope=col>x8</th><th scope=col>x9</th><th scope=col>x10</th><th scope=col>y</th></tr>\n",
              "\t<tr><th></th><th scope=col>&lt;chr&gt;</th><th scope=col>&lt;chr&gt;</th><th scope=col>&lt;dbl&gt;</th><th scope=col>&lt;dbl&gt;</th><th scope=col>&lt;dbl&gt;</th><th scope=col>&lt;dbl&gt;</th><th scope=col>&lt;dbl&gt;</th><th scope=col>&lt;dbl&gt;</th><th scope=col>&lt;dbl&gt;</th><th scope=col>&lt;dbl&gt;</th><th scope=col>&lt;dbl&gt;</th><th scope=col>&lt;dbl&gt;</th><th scope=col>&lt;int&gt;</th></tr>\n",
              "</thead>\n",
              "<tbody>\n",
              "\t<tr><th scope=row>1</th><td>ACEH</td><td>Simeulue     </td><td>18.98</td><td>9.48</td><td> 7148</td><td>66.41</td><td>65.28</td><td>71.56</td><td>87.45</td><td>5.71</td><td>71.15</td><td>1648096</td><td>0</td></tr>\n",
              "\t<tr><th scope=row>2</th><td>ACEH</td><td>Aceh Singkil </td><td>20.36</td><td>8.68</td><td> 8776</td><td>69.22</td><td>67.43</td><td>69.56</td><td>78.58</td><td>8.36</td><td>62.85</td><td>1780419</td><td>1</td></tr>\n",
              "\t<tr><th scope=row>3</th><td>ACEH</td><td>Aceh Selatan </td><td>13.18</td><td>8.88</td><td> 8180</td><td>67.44</td><td>64.40</td><td>62.55</td><td>79.65</td><td>6.46</td><td>60.85</td><td>4345784</td><td>0</td></tr>\n",
              "\t<tr><th scope=row>4</th><td>ACEH</td><td>Aceh Tenggara</td><td>13.41</td><td>9.67</td><td> 8030</td><td>69.44</td><td>68.22</td><td>62.71</td><td>86.71</td><td>6.43</td><td>69.62</td><td>3487157</td><td>0</td></tr>\n",
              "\t<tr><th scope=row>5</th><td>ACEH</td><td>Aceh Timur   </td><td>14.45</td><td>8.21</td><td> 8577</td><td>67.83</td><td>68.74</td><td>66.75</td><td>83.16</td><td>7.13</td><td>59.48</td><td>8433526</td><td>0</td></tr>\n",
              "\t<tr><th scope=row>6</th><td>ACEH</td><td>Aceh Tengah  </td><td>15.26</td><td>9.86</td><td>10780</td><td>73.37</td><td>68.86</td><td>90.58</td><td>90.10</td><td>2.61</td><td>76.30</td><td>5953118</td><td>0</td></tr>\n",
              "</tbody>\n",
              "</table>\n"
            ],
            "text/latex": [
              "A data.frame: 6 × 13\n",
              "\\begin{tabular}{r|lllllllllllll}\n",
              "  & Provinsi & Kab.Kota & x1 & x2 & x3 & x4 & x5 & x6 & x7 & x8 & x9 & x10 & y\\\\\n",
              "  & <chr> & <chr> & <dbl> & <dbl> & <dbl> & <dbl> & <dbl> & <dbl> & <dbl> & <dbl> & <dbl> & <dbl> & <int>\\\\\n",
              "\\hline\n",
              "\t1 & ACEH & Simeulue      & 18.98 & 9.48 &  7148 & 66.41 & 65.28 & 71.56 & 87.45 & 5.71 & 71.15 & 1648096 & 0\\\\\n",
              "\t2 & ACEH & Aceh Singkil  & 20.36 & 8.68 &  8776 & 69.22 & 67.43 & 69.56 & 78.58 & 8.36 & 62.85 & 1780419 & 1\\\\\n",
              "\t3 & ACEH & Aceh Selatan  & 13.18 & 8.88 &  8180 & 67.44 & 64.40 & 62.55 & 79.65 & 6.46 & 60.85 & 4345784 & 0\\\\\n",
              "\t4 & ACEH & Aceh Tenggara & 13.41 & 9.67 &  8030 & 69.44 & 68.22 & 62.71 & 86.71 & 6.43 & 69.62 & 3487157 & 0\\\\\n",
              "\t5 & ACEH & Aceh Timur    & 14.45 & 8.21 &  8577 & 67.83 & 68.74 & 66.75 & 83.16 & 7.13 & 59.48 & 8433526 & 0\\\\\n",
              "\t6 & ACEH & Aceh Tengah   & 15.26 & 9.86 & 10780 & 73.37 & 68.86 & 90.58 & 90.10 & 2.61 & 76.30 & 5953118 & 0\\\\\n",
              "\\end{tabular}\n"
            ],
            "text/markdown": [
              "\n",
              "A data.frame: 6 × 13\n",
              "\n",
              "| <!--/--> | Provinsi &lt;chr&gt; | Kab.Kota &lt;chr&gt; | x1 &lt;dbl&gt; | x2 &lt;dbl&gt; | x3 &lt;dbl&gt; | x4 &lt;dbl&gt; | x5 &lt;dbl&gt; | x6 &lt;dbl&gt; | x7 &lt;dbl&gt; | x8 &lt;dbl&gt; | x9 &lt;dbl&gt; | x10 &lt;dbl&gt; | y &lt;int&gt; |\n",
              "|---|---|---|---|---|---|---|---|---|---|---|---|---|---|\n",
              "| 1 | ACEH | Simeulue      | 18.98 | 9.48 |  7148 | 66.41 | 65.28 | 71.56 | 87.45 | 5.71 | 71.15 | 1648096 | 0 |\n",
              "| 2 | ACEH | Aceh Singkil  | 20.36 | 8.68 |  8776 | 69.22 | 67.43 | 69.56 | 78.58 | 8.36 | 62.85 | 1780419 | 1 |\n",
              "| 3 | ACEH | Aceh Selatan  | 13.18 | 8.88 |  8180 | 67.44 | 64.40 | 62.55 | 79.65 | 6.46 | 60.85 | 4345784 | 0 |\n",
              "| 4 | ACEH | Aceh Tenggara | 13.41 | 9.67 |  8030 | 69.44 | 68.22 | 62.71 | 86.71 | 6.43 | 69.62 | 3487157 | 0 |\n",
              "| 5 | ACEH | Aceh Timur    | 14.45 | 8.21 |  8577 | 67.83 | 68.74 | 66.75 | 83.16 | 7.13 | 59.48 | 8433526 | 0 |\n",
              "| 6 | ACEH | Aceh Tengah   | 15.26 | 9.86 | 10780 | 73.37 | 68.86 | 90.58 | 90.10 | 2.61 | 76.30 | 5953118 | 0 |\n",
              "\n"
            ],
            "text/plain": [
              "  Provinsi Kab.Kota      x1    x2   x3    x4    x5    x6    x7    x8   x9   \n",
              "1 ACEH     Simeulue      18.98 9.48  7148 66.41 65.28 71.56 87.45 5.71 71.15\n",
              "2 ACEH     Aceh Singkil  20.36 8.68  8776 69.22 67.43 69.56 78.58 8.36 62.85\n",
              "3 ACEH     Aceh Selatan  13.18 8.88  8180 67.44 64.40 62.55 79.65 6.46 60.85\n",
              "4 ACEH     Aceh Tenggara 13.41 9.67  8030 69.44 68.22 62.71 86.71 6.43 69.62\n",
              "5 ACEH     Aceh Timur    14.45 8.21  8577 67.83 68.74 66.75 83.16 7.13 59.48\n",
              "6 ACEH     Aceh Tengah   15.26 9.86 10780 73.37 68.86 90.58 90.10 2.61 76.30\n",
              "  x10     y\n",
              "1 1648096 0\n",
              "2 1780419 1\n",
              "3 4345784 0\n",
              "4 3487157 0\n",
              "5 8433526 0\n",
              "6 5953118 0"
            ]
          },
          "metadata": {},
          "output_type": "display_data"
        }
      ],
      "source": [
        "col.names <- c('Provinsi', 'Kab/Kota', 'x1', 'x2', 'x3', 'x4', 'x5', 'x6', 'x7', 'x8', 'x9', 'x10', 'y')\n",
        "df <- read.csv('cleaned_data.csv', col.names = col.names)\n",
        "head(df)"
      ]
    },
    {
      "cell_type": "code",
      "execution_count": null,
      "metadata": {
        "vscode": {
          "languageId": "r"
        },
        "id": "l4liaGPk-RxW"
      },
      "outputs": [],
      "source": [
        "cols <- c('x1', 'x2', 'x3', 'x5', 'x6', 'x7', 'x8', 'x9', 'x10')"
      ]
    },
    {
      "cell_type": "code",
      "execution_count": null,
      "metadata": {
        "vscode": {
          "languageId": "r"
        },
        "id": "U5xPvAU4-RxW",
        "outputId": "6bff6fbd-40df-4641-e70e-58496ce5b74f"
      },
      "outputs": [
        {
          "data": {
            "text/html": [
              "<table class=\"dataframe\">\n",
              "<caption>A data.frame: 6 × 13</caption>\n",
              "<thead>\n",
              "\t<tr><th></th><th scope=col>Provinsi</th><th scope=col>Kab.Kota</th><th scope=col>x1</th><th scope=col>x2</th><th scope=col>x3</th><th scope=col>x4</th><th scope=col>x5</th><th scope=col>x6</th><th scope=col>x7</th><th scope=col>x8</th><th scope=col>x9</th><th scope=col>x10</th><th scope=col>y</th></tr>\n",
              "\t<tr><th></th><th scope=col>&lt;chr&gt;</th><th scope=col>&lt;chr&gt;</th><th scope=col>&lt;dbl&gt;</th><th scope=col>&lt;dbl&gt;</th><th scope=col>&lt;dbl&gt;</th><th scope=col>&lt;dbl&gt;</th><th scope=col>&lt;dbl&gt;</th><th scope=col>&lt;dbl&gt;</th><th scope=col>&lt;dbl&gt;</th><th scope=col>&lt;dbl&gt;</th><th scope=col>&lt;dbl&gt;</th><th scope=col>&lt;dbl&gt;</th><th scope=col>&lt;int&gt;</th></tr>\n",
              "</thead>\n",
              "<tbody>\n",
              "\t<tr><th scope=row>1</th><td>ACEH</td><td>Simeulue     </td><td>0.4226069</td><td>0.7063979</td><td>0.1593009</td><td>66.41</td><td>0.4417040</td><td>0.7158147</td><td>0.8745</td><td>0.4270755</td><td>0.35532017</td><td>0.003262669</td><td>0</td></tr>\n",
              "\t<tr><th scope=row>2</th><td>ACEH</td><td>Aceh Singkil </td><td>0.4577393</td><td>0.6362840</td><td>0.2410607</td><td>69.22</td><td>0.5381166</td><td>0.6958087</td><td>0.7858</td><td>0.6252805</td><td>0.15551276</td><td>0.003550369</td><td>1</td></tr>\n",
              "\t<tr><th scope=row>3</th><td>ACEH</td><td>Aceh Selatan </td><td>0.2749491</td><td>0.6538124</td><td>0.2111290</td><td>67.44</td><td>0.4022422</td><td>0.6256877</td><td>0.7965</td><td>0.4831713</td><td>0.10736639</td><td>0.009128055</td><td>0</td></tr>\n",
              "\t<tr><th scope=row>4</th><td>ACEH</td><td>Aceh Tenggara</td><td>0.2808045</td><td>0.7230500</td><td>0.2035958</td><td>69.44</td><td>0.5735426</td><td>0.6272882</td><td>0.8671</td><td>0.4809274</td><td>0.31848820</td><td>0.007261205</td><td>0</td></tr>\n",
              "\t<tr><th scope=row>5</th><td>ACEH</td><td>Aceh Timur   </td><td>0.3072811</td><td>0.5950920</td><td>0.2310667</td><td>67.83</td><td>0.5968610</td><td>0.6677003</td><td>0.8316</td><td>0.5332835</td><td>0.07438613</td><td>0.018015735</td><td>0</td></tr>\n",
              "\t<tr><th scope=row>6</th><td>ACEH</td><td>Aceh Tengah  </td><td>0.3279022</td><td>0.7397020</td><td>0.3417035</td><td>73.37</td><td>0.6022422</td><td>0.9060718</td><td>0.9010</td><td>0.1952132</td><td>0.47929706</td><td>0.012622764</td><td>0</td></tr>\n",
              "</tbody>\n",
              "</table>\n"
            ],
            "text/latex": [
              "A data.frame: 6 × 13\n",
              "\\begin{tabular}{r|lllllllllllll}\n",
              "  & Provinsi & Kab.Kota & x1 & x2 & x3 & x4 & x5 & x6 & x7 & x8 & x9 & x10 & y\\\\\n",
              "  & <chr> & <chr> & <dbl> & <dbl> & <dbl> & <dbl> & <dbl> & <dbl> & <dbl> & <dbl> & <dbl> & <dbl> & <int>\\\\\n",
              "\\hline\n",
              "\t1 & ACEH & Simeulue      & 0.4226069 & 0.7063979 & 0.1593009 & 66.41 & 0.4417040 & 0.7158147 & 0.8745 & 0.4270755 & 0.35532017 & 0.003262669 & 0\\\\\n",
              "\t2 & ACEH & Aceh Singkil  & 0.4577393 & 0.6362840 & 0.2410607 & 69.22 & 0.5381166 & 0.6958087 & 0.7858 & 0.6252805 & 0.15551276 & 0.003550369 & 1\\\\\n",
              "\t3 & ACEH & Aceh Selatan  & 0.2749491 & 0.6538124 & 0.2111290 & 67.44 & 0.4022422 & 0.6256877 & 0.7965 & 0.4831713 & 0.10736639 & 0.009128055 & 0\\\\\n",
              "\t4 & ACEH & Aceh Tenggara & 0.2808045 & 0.7230500 & 0.2035958 & 69.44 & 0.5735426 & 0.6272882 & 0.8671 & 0.4809274 & 0.31848820 & 0.007261205 & 0\\\\\n",
              "\t5 & ACEH & Aceh Timur    & 0.3072811 & 0.5950920 & 0.2310667 & 67.83 & 0.5968610 & 0.6677003 & 0.8316 & 0.5332835 & 0.07438613 & 0.018015735 & 0\\\\\n",
              "\t6 & ACEH & Aceh Tengah   & 0.3279022 & 0.7397020 & 0.3417035 & 73.37 & 0.6022422 & 0.9060718 & 0.9010 & 0.1952132 & 0.47929706 & 0.012622764 & 0\\\\\n",
              "\\end{tabular}\n"
            ],
            "text/markdown": [
              "\n",
              "A data.frame: 6 × 13\n",
              "\n",
              "| <!--/--> | Provinsi &lt;chr&gt; | Kab.Kota &lt;chr&gt; | x1 &lt;dbl&gt; | x2 &lt;dbl&gt; | x3 &lt;dbl&gt; | x4 &lt;dbl&gt; | x5 &lt;dbl&gt; | x6 &lt;dbl&gt; | x7 &lt;dbl&gt; | x8 &lt;dbl&gt; | x9 &lt;dbl&gt; | x10 &lt;dbl&gt; | y &lt;int&gt; |\n",
              "|---|---|---|---|---|---|---|---|---|---|---|---|---|---|\n",
              "| 1 | ACEH | Simeulue      | 0.4226069 | 0.7063979 | 0.1593009 | 66.41 | 0.4417040 | 0.7158147 | 0.8745 | 0.4270755 | 0.35532017 | 0.003262669 | 0 |\n",
              "| 2 | ACEH | Aceh Singkil  | 0.4577393 | 0.6362840 | 0.2410607 | 69.22 | 0.5381166 | 0.6958087 | 0.7858 | 0.6252805 | 0.15551276 | 0.003550369 | 1 |\n",
              "| 3 | ACEH | Aceh Selatan  | 0.2749491 | 0.6538124 | 0.2111290 | 67.44 | 0.4022422 | 0.6256877 | 0.7965 | 0.4831713 | 0.10736639 | 0.009128055 | 0 |\n",
              "| 4 | ACEH | Aceh Tenggara | 0.2808045 | 0.7230500 | 0.2035958 | 69.44 | 0.5735426 | 0.6272882 | 0.8671 | 0.4809274 | 0.31848820 | 0.007261205 | 0 |\n",
              "| 5 | ACEH | Aceh Timur    | 0.3072811 | 0.5950920 | 0.2310667 | 67.83 | 0.5968610 | 0.6677003 | 0.8316 | 0.5332835 | 0.07438613 | 0.018015735 | 0 |\n",
              "| 6 | ACEH | Aceh Tengah   | 0.3279022 | 0.7397020 | 0.3417035 | 73.37 | 0.6022422 | 0.9060718 | 0.9010 | 0.1952132 | 0.47929706 | 0.012622764 | 0 |\n",
              "\n"
            ],
            "text/plain": [
              "  Provinsi Kab.Kota      x1        x2        x3        x4    x5       \n",
              "1 ACEH     Simeulue      0.4226069 0.7063979 0.1593009 66.41 0.4417040\n",
              "2 ACEH     Aceh Singkil  0.4577393 0.6362840 0.2410607 69.22 0.5381166\n",
              "3 ACEH     Aceh Selatan  0.2749491 0.6538124 0.2111290 67.44 0.4022422\n",
              "4 ACEH     Aceh Tenggara 0.2808045 0.7230500 0.2035958 69.44 0.5735426\n",
              "5 ACEH     Aceh Timur    0.3072811 0.5950920 0.2310667 67.83 0.5968610\n",
              "6 ACEH     Aceh Tengah   0.3279022 0.7397020 0.3417035 73.37 0.6022422\n",
              "  x6        x7     x8        x9         x10         y\n",
              "1 0.7158147 0.8745 0.4270755 0.35532017 0.003262669 0\n",
              "2 0.6958087 0.7858 0.6252805 0.15551276 0.003550369 1\n",
              "3 0.6256877 0.7965 0.4831713 0.10736639 0.009128055 0\n",
              "4 0.6272882 0.8671 0.4809274 0.31848820 0.007261205 0\n",
              "5 0.6677003 0.8316 0.5332835 0.07438613 0.018015735 0\n",
              "6 0.9060718 0.9010 0.1952132 0.47929706 0.012622764 0"
            ]
          },
          "metadata": {},
          "output_type": "display_data"
        }
      ],
      "source": [
        "min_max_norm <- function(x) {\n",
        "  (x - min(x)) / (max(x) - min(x))\n",
        "}\n",
        "\n",
        "# Apply Min-Max normalization\n",
        "df[cols] <- as.data.frame(lapply(df[cols], min_max_norm))\n",
        "\n",
        "# View the first few rows of the normalized dataset\n",
        "head(df)"
      ]
    },
    {
      "cell_type": "markdown",
      "metadata": {
        "id": "GD3iMyMH-RxW"
      },
      "source": [
        "# Kmeans"
      ]
    },
    {
      "cell_type": "markdown",
      "metadata": {
        "id": "tt4GWg1N-RxY"
      },
      "source": [
        "## Base"
      ]
    },
    {
      "cell_type": "code",
      "execution_count": null,
      "metadata": {
        "vscode": {
          "languageId": "r"
        },
        "id": "ImLYTAFt-RxY",
        "outputId": "68e2f183-3455-4c58-d9b5-4188dce1f3a4"
      },
      "outputs": [
        {
          "data": {
            "image/png": "[encoded data removed]",
            "text/plain": [
              "plot without title"
            ]
          },
          "metadata": {
            "image/png": {
              "height": 420,
              "width": 420
            }
          },
          "output_type": "display_data"
        }
      ],
      "source": [
        "# Perform k-means clustering with the elbow method\n",
        "set.seed(42) # For reproducibility\n",
        "\n",
        "# Function to calculate total within-cluster sum of squares (WSS)\n",
        "wss <- function(k) {\n",
        "  kmeans(df[, cols], centers = k, nstart = 25)$tot.withinss\n",
        "}\n",
        "\n",
        "# Compute WSS for a range of cluster numbers\n",
        "k.values <- 1:10\n",
        "wss_values <- sapply(k.values, wss)\n",
        "\n",
        "# Plot the WSS values to find the elbow point\n",
        "plot(k.values, wss_values, type = \"b\", pch = 19, frame = FALSE,\n",
        "     xlab = \"Number of clusters K\",\n",
        "     ylab = \"Total within-clusters sum of squares\")"
      ]
    },
    {
      "cell_type": "markdown",
      "metadata": {
        "id": "O_mzSKlx-RxY"
      },
      "source": [
        "### 3 Centroids"
      ]
    },
    {
      "cell_type": "code",
      "execution_count": null,
      "metadata": {
        "vscode": {
          "languageId": "r"
        },
        "id": "sheYn5eM-RxZ"
      },
      "outputs": [],
      "source": [
        "# Perform k-means clustering with the optimal number of clusters\n",
        "optimal_k <- 3 # Replace with the optimal number of clusters found from the plot\n",
        "kmeans_result <- kmeans(df[, cols], centers = optimal_k, nstart = 25)\n",
        "df$kmeans_clust <- kmeans_result$cluster"
      ]
    },
    {
      "cell_type": "markdown",
      "metadata": {
        "id": "lSLRupqd-RxZ"
      },
      "source": [
        "#### Plot"
      ]
    },
    {
      "cell_type": "code",
      "execution_count": null,
      "metadata": {
        "vscode": {
          "languageId": "r"
        },
        "id": "Iq1V4sow-RxZ",
        "outputId": "c6af8948-d04c-4bd4-e800-14ca8af00377"
      },
      "outputs": [
        {
          "data": {
            "image/png": "[encoded data removed]",
            "text/plain": [
              "Plot with title \"First Two Discriminant Functions\""
            ]
          },
          "metadata": {
            "image/png": {
              "height": 500,
              "width": 500
            }
          },
          "output_type": "display_data"
        }
      ],
      "source": [
        "# Compute discriminant functions\n",
        "lda_model <- lda(df[, cols], grouping = df$kmeans_clust)\n",
        "lda_scores <- predict(lda_model)$x\n",
        "\n",
        "# Plot the first two discriminant functions\n",
        "options(repr.plot.width = 10, repr.plot.height = 10, repr.plot.res = 100)\n",
        "\n",
        "# Set up the plotting area\n",
        "par(mar = c(5, 5, 2, 7), xpd = TRUE)  # Adjust the margins and allow plotting outside the plot region\n",
        "\n",
        "# Plot the first two discriminant functions\n",
        "plot(lda_scores[, 1], lda_scores[, 2], col = df$kmeans_clust, main = \"First Two Discriminant Functions\", xlab = \"Discriminant 1\", ylab = \"Discriminant 2\")\n",
        "legend(\"topright\", inset = c(-0.25, 0), legend = paste(\"Cluster\", 1:3), col = 1:3, pch = 19, title = \"Clusters\", xpd = TRUE, bty='n')\n",
        "\n",
        "# Reset par to default\n",
        "par(mar = c(5, 4, 4, 2) + 0.1)  # Reset the margins to default"
      ]
    },
    {
      "cell_type": "code",
      "execution_count": null,
      "metadata": {
        "vscode": {
          "languageId": "r"
        },
        "id": "RxTXUbtI-Rxa",
        "outputId": "3cfc7975-945c-4a9d-926a-f8aacdfae699"
      },
      "outputs": [
        {
          "data": {
            "image/png": "[encoded data removed]",
            "text/plain": [
              "Plot with title \"First Two Discriminant Functions\""
            ]
          },
          "metadata": {
            "image/png": {
              "height": 500,
              "width": 500
            }
          },
          "output_type": "display_data"
        }
      ],
      "source": [
        "# Compute discriminant functions\n",
        "lda_model <- lda(df[, cols], grouping = df$kmeans_clust)\n",
        "lda_scores <- predict(lda_model)$x\n",
        "\n",
        "# Set up plot dimensions\n",
        "options(repr.plot.width = 10, repr.plot.height = 10, repr.plot.res = 100)\n",
        "\n",
        "# Set up the plotting area with adjusted margins\n",
        "par(mar = c(5, 5, 2, 7), xpd = TRUE)\n",
        "\n",
        "# Define colors: red for 0, blue for 1\n",
        "colors <- ifelse(df$y == 1, \"blue\", \"red\")\n",
        "\n",
        "# Plot the first two discriminant functions with custom colors based on df$y\n",
        "plot(\n",
        "  lda_scores[, 1], lda_scores[, 2],\n",
        "  col = colors,\n",
        "  pch = 19,\n",
        "  main = \"First Two Discriminant Functions\",\n",
        "  xlab = \"Discriminant 1\",\n",
        "  ylab = \"Discriminant 2\"\n",
        ")\n",
        "\n",
        "# Add a legend outside the plot area\n",
        "legend(\n",
        "  \"topright\",\n",
        "  legend = c(\"y = 0\", \"y = 1\"),\n",
        "  col = c(\"red\", \"blue\"),\n",
        "  pch = 19,\n",
        "  title = \"Outcome\",\n",
        "  xpd = TRUE,\n",
        "  bty = 'n'\n",
        ")\n",
        "\n",
        "# Reset margins to default\n",
        "par(mar = c(5, 4, 4, 2) + 0.1)\n"
      ]
    },
    {
      "cell_type": "markdown",
      "metadata": {
        "id": "xn-TmyVg-Rxa"
      },
      "source": [
        "#### Silhouette Score"
      ]
    },
    {
      "cell_type": "code",
      "execution_count": null,
      "metadata": {
        "vscode": {
          "languageId": "r"
        },
        "id": "xraKoC9N-Rxb",
        "outputId": "c771ce43-b2de-41d4-fbdf-6e7f3e7db005"
      },
      "outputs": [
        {
          "name": "stdout",
          "output_type": "stream",
          "text": [
            "[1] 0.2746607\n"
          ]
        }
      ],
      "source": [
        "# Calculate silhouette score\n",
        "dist_matrix <- dist(df[, cols])\n",
        "silhouette_score <- silhouette(kmeans_result$cluster, dist_matrix)\n",
        "mean_silhouette_score <- mean(silhouette_score[, 3])\n",
        "\n",
        "# Print the mean silhouette score\n",
        "print(mean_silhouette_score)"
      ]
    },
    {
      "cell_type": "markdown",
      "metadata": {
        "id": "FOPwor3k-Rxb"
      },
      "source": [
        "#### DBI"
      ]
    },
    {
      "cell_type": "code",
      "execution_count": null,
      "metadata": {
        "vscode": {
          "languageId": "r"
        },
        "id": "PG2Zqfe--Rxb",
        "outputId": "2822d3f7-61d0-461a-b812-4e3686759a63"
      },
      "outputs": [
        {
          "data": {
            "text/html": [
              "1.31168969469041"
            ],
            "text/latex": [
              "1.31168969469041"
            ],
            "text/markdown": [
              "1.31168969469041"
            ],
            "text/plain": [
              "[1] 1.31169"
            ]
          },
          "metadata": {},
          "output_type": "display_data"
        }
      ],
      "source": [
        "index.DB(df[, cols], df$kmeans_clust, d=NULL, centrotypes=\"centroids\", p=2, q=2)$DB"
      ]
    },
    {
      "cell_type": "markdown",
      "metadata": {
        "id": "uBtIiYMm-Rxc"
      },
      "source": [
        "### 4 Centroids"
      ]
    },
    {
      "cell_type": "code",
      "execution_count": null,
      "metadata": {
        "vscode": {
          "languageId": "r"
        },
        "id": "vWJPK0VA-Rxc"
      },
      "outputs": [],
      "source": [
        "# Perform k-means clustering with the optimal number of clusters\n",
        "optimal_k <- 4 # Replace with the optimal number of clusters found from the plot\n",
        "kmeans_result <- kmeans(df[, cols], centers = optimal_k, nstart = 25)\n",
        "df$kmeans_clust <- kmeans_result$cluster"
      ]
    },
    {
      "cell_type": "markdown",
      "metadata": {
        "id": "J8GBnrfN-Rxc"
      },
      "source": [
        "#### Plot"
      ]
    },
    {
      "cell_type": "code",
      "execution_count": null,
      "metadata": {
        "vscode": {
          "languageId": "r"
        },
        "id": "wtOc9k0w-Rxc",
        "outputId": "fd6bd26d-d6e2-43a3-b801-d86c68d39812"
      },
      "outputs": [
        {
          "data": {
            "image/png": "[encoded data removed]",
            "text/plain": [
              "Plot with title \"First Two Discriminant Functions\""
            ]
          },
          "metadata": {
            "image/png": {
              "height": 500,
              "width": 500
            }
          },
          "output_type": "display_data"
        }
      ],
      "source": [
        "# Compute discriminant functions\n",
        "lda_model <- lda(df[, cols], grouping = df$kmeans_clust)\n",
        "lda_scores <- predict(lda_model)$x\n",
        "\n",
        "# Plot the first two discriminant functions\n",
        "options(repr.plot.width = 10, repr.plot.height = 10, repr.plot.res = 100)\n",
        "\n",
        "# Set up the plotting area\n",
        "par(mar = c(5, 5, 2, 7), xpd = TRUE)  # Adjust the margins and allow plotting outside the plot region\n",
        "\n",
        "# Plot the first two discriminant functions\n",
        "plot(lda_scores[, 1], lda_scores[, 2], col = df$kmeans_clust, main = \"First Two Discriminant Functions\", xlab = \"Discriminant 1\", ylab = \"Discriminant 2\")\n",
        "legend(\"topright\", inset = c(-0.25, 0), legend = paste(\"Cluster\", 1:4), col = 1:4, pch = 19, title = \"Clusters\", xpd = TRUE, bty='n')\n",
        "\n",
        "# Reset par to default\n",
        "par(mar = c(5, 4, 4, 2) + 0.1)  # Reset the margins to default"
      ]
    },
    {
      "cell_type": "code",
      "execution_count": null,
      "metadata": {
        "vscode": {
          "languageId": "r"
        },
        "id": "QGKh_SDx-Rxd",
        "outputId": "2eb7e4fe-7b5b-4c79-c23e-fa57f13117a6"
      },
      "outputs": [
        {
          "data": {
            "image/png": "[encoded data removed]",
            "text/plain": [
              "Plot with title \"First Two Discriminant Functions\""
            ]
          },
          "metadata": {
            "image/png": {
              "height": 500,
              "width": 500
            }
          },
          "output_type": "display_data"
        }
      ],
      "source": [
        "# Compute discriminant functions\n",
        "lda_model <- lda(df[, cols], grouping = df$kmeans_clust)\n",
        "lda_scores <- predict(lda_model)$x\n",
        "\n",
        "# Set up plot dimensions\n",
        "options(repr.plot.width = 10, repr.plot.height = 10, repr.plot.res = 100)\n",
        "\n",
        "# Set up the plotting area with adjusted margins\n",
        "par(mar = c(5, 5, 2, 7), xpd = TRUE)\n",
        "\n",
        "# Define colors: red for 0, blue for 1\n",
        "colors <- ifelse(df$y == 1, \"blue\", \"red\")\n",
        "\n",
        "# Plot the first two discriminant functions with custom colors based on df$y\n",
        "plot(\n",
        "  lda_scores[, 1], lda_scores[, 2],\n",
        "  col = colors,\n",
        "  pch = 19,\n",
        "  main = \"First Two Discriminant Functions\",\n",
        "  xlab = \"Discriminant 1\",\n",
        "  ylab = \"Discriminant 2\"\n",
        ")\n",
        "\n",
        "# Add a legend outside the plot area\n",
        "legend(\n",
        "  \"topright\",\n",
        "  legend = c(\"y = 0\", \"y = 1\"),\n",
        "  col = c(\"red\", \"blue\"),\n",
        "  pch = 19,\n",
        "  title = \"Outcome\",\n",
        "  xpd = TRUE,\n",
        "  bty = 'n'\n",
        ")\n",
        "\n",
        "# Reset margins to default\n",
        "par(mar = c(5, 4, 4, 2) + 0.1)\n"
      ]
    },
    {
      "cell_type": "markdown",
      "metadata": {
        "id": "7gMRr0ne-Rxd"
      },
      "source": [
        "#### Silhouette Score"
      ]
    },
    {
      "cell_type": "code",
      "execution_count": null,
      "metadata": {
        "vscode": {
          "languageId": "r"
        },
        "id": "pqqz_55c-Rxd",
        "outputId": "37d0ffbb-5f77-4565-f7ce-874d16ce6a0d"
      },
      "outputs": [
        {
          "name": "stdout",
          "output_type": "stream",
          "text": [
            "[1] 0.1904656\n"
          ]
        }
      ],
      "source": [
        "# Calculate silhouette score\n",
        "dist_matrix <- dist(df[, cols])\n",
        "silhouette_score <- silhouette(kmeans_result$cluster, dist_matrix)\n",
        "mean_silhouette_score <- mean(silhouette_score[, 3])\n",
        "\n",
        "# Print the mean silhouette score\n",
        "print(mean_silhouette_score)"
      ]
    },
    {
      "cell_type": "markdown",
      "metadata": {
        "id": "QutFVgs7-Rxe"
      },
      "source": [
        "#### DBI"
      ]
    },
    {
      "cell_type": "code",
      "execution_count": null,
      "metadata": {
        "vscode": {
          "languageId": "r"
        },
        "id": "dQt2NDQE-Rxe",
        "outputId": "19c57bad-118c-4020-a51a-5371166e0757"
      },
      "outputs": [
        {
          "data": {
            "text/html": [
              "1.6448416673738"
            ],
            "text/latex": [
              "1.6448416673738"
            ],
            "text/markdown": [
              "1.6448416673738"
            ],
            "text/plain": [
              "[1] 1.644842"
            ]
          },
          "metadata": {},
          "output_type": "display_data"
        }
      ],
      "source": [
        "index.DB(df[, cols], df$kmeans_clust, d=NULL, centrotypes=\"centroids\", p=2, q=2)$DB"
      ]
    },
    {
      "cell_type": "markdown",
      "metadata": {
        "id": "OZ0O5sJv-Rxe"
      },
      "source": [
        "## PCA"
      ]
    },
    {
      "cell_type": "code",
      "execution_count": null,
      "metadata": {
        "vscode": {
          "languageId": "r"
        },
        "id": "kjfqkHlw-Rxe",
        "outputId": "da43d5b4-7e8b-49ba-ec9c-e6ae4858ab69"
      },
      "outputs": [
        {
          "data": {
            "text/plain": [
              "Importance of components:\n",
              "                          PC1    PC2    PC3     PC4     PC5     PC6     PC7\n",
              "Standard deviation     2.1415 0.9974 0.9439 0.81319 0.75791 0.67578 0.59381\n",
              "Proportion of Variance 0.5096 0.1105 0.0990 0.07347 0.06382 0.05074 0.03918\n",
              "Cumulative Proportion  0.5096 0.6201 0.7191 0.79257 0.85640 0.90714 0.94632\n",
              "                           PC8     PC9\n",
              "Standard deviation     0.51646 0.46520\n",
              "Proportion of Variance 0.02964 0.02405\n",
              "Cumulative Proportion  0.97595 1.00000"
            ]
          },
          "metadata": {},
          "output_type": "display_data"
        }
      ],
      "source": [
        "pcomps <- prcomp(df[, cols], scale = TRUE)\n",
        "summary(pcomps)"
      ]
    },
    {
      "cell_type": "code",
      "execution_count": null,
      "metadata": {
        "vscode": {
          "languageId": "r"
        },
        "id": "EuLsUv6u-Rxe",
        "outputId": "28d733a5-1825-4266-fe64-901113ca7bb7"
      },
      "outputs": [
        {
          "data": {
            "text/html": [
              "<table class=\"dataframe\">\n",
              "<caption>A matrix: 9 × 9 of type dbl</caption>\n",
              "<thead>\n",
              "\t<tr><th></th><th scope=col>PC1</th><th scope=col>PC2</th><th scope=col>PC3</th><th scope=col>PC4</th><th scope=col>PC5</th><th scope=col>PC6</th><th scope=col>PC7</th><th scope=col>PC8</th><th scope=col>PC9</th></tr>\n",
              "</thead>\n",
              "<tbody>\n",
              "\t<tr><th scope=row>x1</th><td> 0.3551323</td><td>-0.1447380</td><td> 0.227288331</td><td> 0.476479972</td><td>-0.08905632</td><td>-0.41925839</td><td>-0.50862254</td><td>-0.02110157</td><td> 0.362474908</td></tr>\n",
              "\t<tr><th scope=row>x2</th><td>-0.3725700</td><td> 0.1570991</td><td> 0.063417197</td><td>-0.147871532</td><td>-0.36148648</td><td>-0.59662851</td><td>-0.02037587</td><td>-0.50860453</td><td>-0.254738936</td></tr>\n",
              "\t<tr><th scope=row>x3</th><td>-0.3961092</td><td>-0.2015604</td><td>-0.175488649</td><td>-0.148879706</td><td>-0.20483856</td><td>-0.18445839</td><td> 0.26905060</td><td> 0.22958408</td><td> 0.740559696</td></tr>\n",
              "\t<tr><th scope=row>x5</th><td>-0.3192824</td><td>-0.1290897</td><td>-0.479599915</td><td> 0.007913572</td><td> 0.63368823</td><td>-0.04587226</td><td>-0.39741885</td><td>-0.28869769</td><td> 0.079766977</td></tr>\n",
              "\t<tr><th scope=row>x6</th><td>-0.3488263</td><td> 0.3888999</td><td>-0.227786439</td><td> 0.116152466</td><td>-0.33845783</td><td> 0.12580577</td><td>-0.51318596</td><td> 0.49791566</td><td>-0.141557111</td></tr>\n",
              "\t<tr><th scope=row>x7</th><td>-0.3102563</td><td> 0.2381367</td><td> 0.018848613</td><td> 0.808034713</td><td> 0.10041626</td><td> 0.08307662</td><td> 0.40320376</td><td>-0.11906448</td><td> 0.004668933</td></tr>\n",
              "\t<tr><th scope=row>x8</th><td>-0.3326623</td><td>-0.2414999</td><td> 0.480647306</td><td>-0.022576715</td><td> 0.40023302</td><td>-0.34641967</td><td> 0.03000319</td><td> 0.49340642</td><td>-0.273749691</td></tr>\n",
              "\t<tr><th scope=row>x9</th><td> 0.3079071</td><td>-0.1917873</td><td>-0.632620046</td><td> 0.154969190</td><td>-0.05955626</td><td>-0.43345751</td><td> 0.26258624</td><td> 0.28979936</td><td>-0.315942597</td></tr>\n",
              "\t<tr><th scope=row>x10</th><td>-0.2298242</td><td>-0.7707291</td><td>-0.005834559</td><td> 0.194772697</td><td>-0.35986989</td><td> 0.31860139</td><td>-0.12154478</td><td>-0.12365693</td><td>-0.232615024</td></tr>\n",
              "</tbody>\n",
              "</table>\n"
            ],
            "text/latex": [
              "A matrix: 9 × 9 of type dbl\n",
              "\\begin{tabular}{r|lllllllll}\n",
              "  & PC1 & PC2 & PC3 & PC4 & PC5 & PC6 & PC7 & PC8 & PC9\\\\\n",
              "\\hline\n",
              "\tx1 &  0.3551323 & -0.1447380 &  0.227288331 &  0.476479972 & -0.08905632 & -0.41925839 & -0.50862254 & -0.02110157 &  0.362474908\\\\\n",
              "\tx2 & -0.3725700 &  0.1570991 &  0.063417197 & -0.147871532 & -0.36148648 & -0.59662851 & -0.02037587 & -0.50860453 & -0.254738936\\\\\n",
              "\tx3 & -0.3961092 & -0.2015604 & -0.175488649 & -0.148879706 & -0.20483856 & -0.18445839 &  0.26905060 &  0.22958408 &  0.740559696\\\\\n",
              "\tx5 & -0.3192824 & -0.1290897 & -0.479599915 &  0.007913572 &  0.63368823 & -0.04587226 & -0.39741885 & -0.28869769 &  0.079766977\\\\\n",
              "\tx6 & -0.3488263 &  0.3888999 & -0.227786439 &  0.116152466 & -0.33845783 &  0.12580577 & -0.51318596 &  0.49791566 & -0.141557111\\\\\n",
              "\tx7 & -0.3102563 &  0.2381367 &  0.018848613 &  0.808034713 &  0.10041626 &  0.08307662 &  0.40320376 & -0.11906448 &  0.004668933\\\\\n",
              "\tx8 & -0.3326623 & -0.2414999 &  0.480647306 & -0.022576715 &  0.40023302 & -0.34641967 &  0.03000319 &  0.49340642 & -0.273749691\\\\\n",
              "\tx9 &  0.3079071 & -0.1917873 & -0.632620046 &  0.154969190 & -0.05955626 & -0.43345751 &  0.26258624 &  0.28979936 & -0.315942597\\\\\n",
              "\tx10 & -0.2298242 & -0.7707291 & -0.005834559 &  0.194772697 & -0.35986989 &  0.31860139 & -0.12154478 & -0.12365693 & -0.232615024\\\\\n",
              "\\end{tabular}\n"
            ],
            "text/markdown": [
              "\n",
              "A matrix: 9 × 9 of type dbl\n",
              "\n",
              "| <!--/--> | PC1 | PC2 | PC3 | PC4 | PC5 | PC6 | PC7 | PC8 | PC9 |\n",
              "|---|---|---|---|---|---|---|---|---|---|\n",
              "| x1 |  0.3551323 | -0.1447380 |  0.227288331 |  0.476479972 | -0.08905632 | -0.41925839 | -0.50862254 | -0.02110157 |  0.362474908 |\n",
              "| x2 | -0.3725700 |  0.1570991 |  0.063417197 | -0.147871532 | -0.36148648 | -0.59662851 | -0.02037587 | -0.50860453 | -0.254738936 |\n",
              "| x3 | -0.3961092 | -0.2015604 | -0.175488649 | -0.148879706 | -0.20483856 | -0.18445839 |  0.26905060 |  0.22958408 |  0.740559696 |\n",
              "| x5 | -0.3192824 | -0.1290897 | -0.479599915 |  0.007913572 |  0.63368823 | -0.04587226 | -0.39741885 | -0.28869769 |  0.079766977 |\n",
              "| x6 | -0.3488263 |  0.3888999 | -0.227786439 |  0.116152466 | -0.33845783 |  0.12580577 | -0.51318596 |  0.49791566 | -0.141557111 |\n",
              "| x7 | -0.3102563 |  0.2381367 |  0.018848613 |  0.808034713 |  0.10041626 |  0.08307662 |  0.40320376 | -0.11906448 |  0.004668933 |\n",
              "| x8 | -0.3326623 | -0.2414999 |  0.480647306 | -0.022576715 |  0.40023302 | -0.34641967 |  0.03000319 |  0.49340642 | -0.273749691 |\n",
              "| x9 |  0.3079071 | -0.1917873 | -0.632620046 |  0.154969190 | -0.05955626 | -0.43345751 |  0.26258624 |  0.28979936 | -0.315942597 |\n",
              "| x10 | -0.2298242 | -0.7707291 | -0.005834559 |  0.194772697 | -0.35986989 |  0.31860139 | -0.12154478 | -0.12365693 | -0.232615024 |\n",
              "\n"
            ],
            "text/plain": [
              "    PC1        PC2        PC3          PC4          PC5         PC6        \n",
              "x1   0.3551323 -0.1447380  0.227288331  0.476479972 -0.08905632 -0.41925839\n",
              "x2  -0.3725700  0.1570991  0.063417197 -0.147871532 -0.36148648 -0.59662851\n",
              "x3  -0.3961092 -0.2015604 -0.175488649 -0.148879706 -0.20483856 -0.18445839\n",
              "x5  -0.3192824 -0.1290897 -0.479599915  0.007913572  0.63368823 -0.04587226\n",
              "x6  -0.3488263  0.3888999 -0.227786439  0.116152466 -0.33845783  0.12580577\n",
              "x7  -0.3102563  0.2381367  0.018848613  0.808034713  0.10041626  0.08307662\n",
              "x8  -0.3326623 -0.2414999  0.480647306 -0.022576715  0.40023302 -0.34641967\n",
              "x9   0.3079071 -0.1917873 -0.632620046  0.154969190 -0.05955626 -0.43345751\n",
              "x10 -0.2298242 -0.7707291 -0.005834559  0.194772697 -0.35986989  0.31860139\n",
              "    PC7         PC8         PC9         \n",
              "x1  -0.50862254 -0.02110157  0.362474908\n",
              "x2  -0.02037587 -0.50860453 -0.254738936\n",
              "x3   0.26905060  0.22958408  0.740559696\n",
              "x5  -0.39741885 -0.28869769  0.079766977\n",
              "x6  -0.51318596  0.49791566 -0.141557111\n",
              "x7   0.40320376 -0.11906448  0.004668933\n",
              "x8   0.03000319  0.49340642 -0.273749691\n",
              "x9   0.26258624  0.28979936 -0.315942597\n",
              "x10 -0.12154478 -0.12365693 -0.232615024"
            ]
          },
          "metadata": {},
          "output_type": "display_data"
        }
      ],
      "source": [
        "pcomps$rotation*-1"
      ]
    },
    {
      "cell_type": "markdown",
      "metadata": {
        "id": "RoHhKox1-Rxe"
      },
      "source": [
        "Digunakan 5 PC pertama"
      ]
    },
    {
      "cell_type": "code",
      "execution_count": null,
      "metadata": {
        "vscode": {
          "languageId": "r"
        },
        "id": "SQS2brGN-Rxf"
      },
      "outputs": [],
      "source": [
        "pc <- as.data.frame(pcomps$x*-1)[1:5]"
      ]
    },
    {
      "cell_type": "code",
      "execution_count": null,
      "metadata": {
        "vscode": {
          "languageId": "r"
        },
        "id": "o0mqXT6k-Rxf",
        "outputId": "5905f0d2-4d64-42a4-e772-621ec56c76cb"
      },
      "outputs": [
        {
          "data": {
            "image/png": "[encoded data removed]",
            "text/plain": [
              "plot without title"
            ]
          },
          "metadata": {
            "image/png": {
              "height": 500,
              "width": 500
            }
          },
          "output_type": "display_data"
        }
      ],
      "source": [
        "# Function to calculate total within-cluster sum of squares (WSS)\n",
        "wss <- function(k) {\n",
        "  kmeans(pc, centers = k, nstart = 25)$tot.withinss\n",
        "}\n",
        "\n",
        "# Compute WSS for a range of cluster numbers\n",
        "k.values <- 1:10\n",
        "wss_values <- sapply(k.values, wss)\n",
        "\n",
        "# Plot the WSS values to find the elbow point\n",
        "plot(k.values, wss_values, type = \"b\", pch = 19, frame = FALSE,\n",
        "     xlab = \"Number of clusters K\",\n",
        "     ylab = \"Total within-clusters sum of squares\")"
      ]
    },
    {
      "cell_type": "markdown",
      "metadata": {
        "id": "IeGq72No-Rxg"
      },
      "source": [
        "### 3 Centroids"
      ]
    },
    {
      "cell_type": "code",
      "execution_count": null,
      "metadata": {
        "vscode": {
          "languageId": "r"
        },
        "id": "0gQbdz_U-Rxg"
      },
      "outputs": [],
      "source": [
        "# Perform k-means clustering with the optimal number of clusters\n",
        "optimal_k <- 3 # Replace with the optimal number of clusters found from the plot\n",
        "kmeans_result <- kmeans(pc, centers = optimal_k, nstart = 25)\n",
        "df$kmeans_clust <- kmeans_result$cluster"
      ]
    },
    {
      "cell_type": "markdown",
      "metadata": {
        "id": "8mDDYDFk-Rxg"
      },
      "source": [
        "#### Plot"
      ]
    },
    {
      "cell_type": "code",
      "execution_count": null,
      "metadata": {
        "vscode": {
          "languageId": "r"
        },
        "id": "tSBqSFtI-Rxh",
        "outputId": "d51907a8-fd98-4e71-c546-24b336b315ac"
      },
      "outputs": [
        {
          "data": {
            "image/png": "[encoded data removed]",
            "text/plain": [
              "Plot with title \"First Two Discriminant Functions\""
            ]
          },
          "metadata": {
            "image/png": {
              "height": 500,
              "width": 500
            }
          },
          "output_type": "display_data"
        }
      ],
      "source": [
        "# Compute discriminant functions\n",
        "lda_model <- lda(pc, grouping = df$kmeans_clust)\n",
        "lda_scores <- predict(lda_model)$x\n",
        "\n",
        "# Plot the first two discriminant functions\n",
        "options(repr.plot.width = 10, repr.plot.height = 10, repr.plot.res = 100)\n",
        "\n",
        "# Set up the plotting area\n",
        "par(mar = c(5, 5, 2, 7), xpd = TRUE)  # Adjust the margins and allow plotting outside the plot region\n",
        "\n",
        "# Plot the first two discriminant functions\n",
        "plot(lda_scores[, 1], lda_scores[, 2], col = df$kmeans_clust, main = \"First Two Discriminant Functions\", xlab = \"Discriminant 1\", ylab = \"Discriminant 2\")\n",
        "legend(\"topright\", inset = c(-0.25, 0), legend = paste(\"Cluster\", 1:3), col = 1:3, pch = 19, title = \"Clusters\", xpd = TRUE, bty='n')\n",
        "\n",
        "# Reset par to default\n",
        "par(mar = c(5, 4, 4, 2) + 0.1)  # Reset the margins to default"
      ]
    },
    {
      "cell_type": "code",
      "execution_count": null,
      "metadata": {
        "vscode": {
          "languageId": "r"
        },
        "id": "2Hh8bf_J-Rxh",
        "outputId": "e0d343b7-bd45-45d7-e8a7-1d7914c23734"
      },
      "outputs": [
        {
          "data": {
            "image/png": "[encoded data removed]",
            "text/plain": [
              "Plot with title \"First Two Discriminant Functions\""
            ]
          },
          "metadata": {
            "image/png": {
              "height": 500,
              "width": 500
            }
          },
          "output_type": "display_data"
        }
      ],
      "source": [
        "# Compute discriminant functions\n",
        "lda_model <- lda(pc, grouping = df$kmeans_clust)\n",
        "lda_scores <- predict(lda_model)$x\n",
        "\n",
        "# Set up plot dimensions\n",
        "options(repr.plot.width = 10, repr.plot.height = 10, repr.plot.res = 100)\n",
        "\n",
        "# Set up the plotting area with adjusted margins\n",
        "par(mar = c(5, 5, 2, 7), xpd = TRUE)\n",
        "\n",
        "# Define colors: red for 0, blue for 1\n",
        "colors <- ifelse(df$y == 1, \"blue\", \"red\")\n",
        "\n",
        "# Plot the first two discriminant functions with custom colors based on df$y\n",
        "plot(\n",
        "  lda_scores[, 1], lda_scores[, 2],\n",
        "  col = colors,\n",
        "  pch = 19,\n",
        "  main = \"First Two Discriminant Functions\",\n",
        "  xlab = \"Discriminant 1\",\n",
        "  ylab = \"Discriminant 2\"\n",
        ")\n",
        "\n",
        "# Add a legend outside the plot area\n",
        "legend(\n",
        "  \"topright\",\n",
        "  legend = c(\"y = 0\", \"y = 1\"),\n",
        "  col = c(\"red\", \"blue\"),\n",
        "  pch = 19,\n",
        "  title = \"Outcome\",\n",
        "  xpd = TRUE,\n",
        "  bty = 'n'\n",
        ")\n",
        "\n",
        "# Reset margins to default\n",
        "par(mar = c(5, 4, 4, 2) + 0.1)\n"
      ]
    },
    {
      "cell_type": "markdown",
      "metadata": {
        "id": "IA2Mu-Fr-Rxi"
      },
      "source": [
        "#### Silhouette Score"
      ]
    },
    {
      "cell_type": "code",
      "execution_count": null,
      "metadata": {
        "vscode": {
          "languageId": "r"
        },
        "id": "PeiLbQ8T-Rxj",
        "outputId": "bea8978f-da35-4320-b651-c377179cfa02"
      },
      "outputs": [
        {
          "name": "stdout",
          "output_type": "stream",
          "text": [
            "[1] 0.3272382\n"
          ]
        }
      ],
      "source": [
        "# Calculate silhouette score\n",
        "dist_matrix <- dist(pc)\n",
        "silhouette_score <- silhouette(kmeans_result$cluster, dist_matrix)\n",
        "mean_silhouette_score <- mean(silhouette_score[, 3])\n",
        "\n",
        "# Print the mean silhouette score\n",
        "print(mean_silhouette_score)"
      ]
    },
    {
      "cell_type": "markdown",
      "metadata": {
        "id": "nXO8PVj_-Rxk"
      },
      "source": [
        "#### DBI"
      ]
    },
    {
      "cell_type": "code",
      "execution_count": null,
      "metadata": {
        "vscode": {
          "languageId": "r"
        },
        "id": "3mywcaD6-Rxk",
        "outputId": "2363aeb0-0692-49b6-96dd-b6bb218bd6cf"
      },
      "outputs": [
        {
          "data": {
            "text/html": [
              "1.23235864000063"
            ],
            "text/latex": [
              "1.23235864000063"
            ],
            "text/markdown": [
              "1.23235864000063"
            ],
            "text/plain": [
              "[1] 1.232359"
            ]
          },
          "metadata": {},
          "output_type": "display_data"
        }
      ],
      "source": [
        "index.DB(pc, df$kmeans_clust, d=NULL, centrotypes=\"centroids\", p=2, q=2)$DB"
      ]
    },
    {
      "cell_type": "markdown",
      "metadata": {
        "id": "Niz8dHor-Rxl"
      },
      "source": [
        "### 4 Centroids"
      ]
    },
    {
      "cell_type": "code",
      "execution_count": null,
      "metadata": {
        "vscode": {
          "languageId": "r"
        },
        "id": "gi1rgFyV-Rxl"
      },
      "outputs": [],
      "source": [
        "# Perform k-means clustering with the optimal number of clusters\n",
        "optimal_k <- 4 # Replace with the optimal number of clusters found from the plot\n",
        "kmeans_result <- kmeans(pc, centers = optimal_k, nstart = 25)\n",
        "df$kmeans_clust <- kmeans_result$cluster"
      ]
    },
    {
      "cell_type": "markdown",
      "metadata": {
        "id": "hxgCF4aW-Rxl"
      },
      "source": [
        "#### Plot"
      ]
    },
    {
      "cell_type": "code",
      "execution_count": null,
      "metadata": {
        "vscode": {
          "languageId": "r"
        },
        "id": "nJNDPI_3-Rxm",
        "outputId": "e59be674-6849-47ac-e355-c5d44edbae63"
      },
      "outputs": [
        {
          "data": {
            "image/png": "[encoded data removed]",
            "text/plain": [
              "Plot with title \"First Two Discriminant Functions\""
            ]
          },
          "metadata": {
            "image/png": {
              "height": 500,
              "width": 500
            }
          },
          "output_type": "display_data"
        }
      ],
      "source": [
        "# Compute discriminant functions\n",
        "lda_model <- lda(pc, grouping = df$kmeans_clust)\n",
        "lda_scores <- predict(lda_model)$x\n",
        "\n",
        "# Plot the first two discriminant functions\n",
        "options(repr.plot.width = 10, repr.plot.height = 10, repr.plot.res = 100)\n",
        "\n",
        "# Set up the plotting area\n",
        "par(mar = c(5, 5, 2, 7), xpd = TRUE)  # Adjust the margins and allow plotting outside the plot region\n",
        "\n",
        "# Plot the first two discriminant functions\n",
        "plot(lda_scores[, 1], lda_scores[, 2], col = df$kmeans_clust, main = \"First Two Discriminant Functions\", xlab = \"Discriminant 1\", ylab = \"Discriminant 2\")\n",
        "legend(\"topright\", inset = c(-0.25, 0), legend = paste(\"Cluster\", 1:4), col = 1:4, pch = 19, title = \"Clusters\", xpd = TRUE, bty='n')\n",
        "\n",
        "# Reset par to default\n",
        "par(mar = c(5, 4, 4, 2) + 0.1)  # Reset the margins to default"
      ]
    },
    {
      "cell_type": "code",
      "execution_count": null,
      "metadata": {
        "vscode": {
          "languageId": "r"
        },
        "id": "AJe3RmY1-Rxm",
        "outputId": "68946fdf-62dc-4b4e-c5bc-4740ee8ce30f"
      },
      "outputs": [
        {
          "data": {
            "image/png": "[encoded data removed]",
            "text/plain": [
              "Plot with title \"First Two Discriminant Functions\""
            ]
          },
          "metadata": {
            "image/png": {
              "height": 500,
              "width": 500
            }
          },
          "output_type": "display_data"
        }
      ],
      "source": [
        "# Compute discriminant functions\n",
        "lda_model <- lda(pc, grouping = df$kmeans_clust)\n",
        "lda_scores <- predict(lda_model)$x\n",
        "\n",
        "# Set up plot dimensions\n",
        "options(repr.plot.width = 10, repr.plot.height = 10, repr.plot.res = 100)\n",
        "\n",
        "# Set up the plotting area with adjusted margins\n",
        "par(mar = c(5, 5, 2, 7), xpd = TRUE)\n",
        "\n",
        "# Define colors: red for 0, blue for 1\n",
        "colors <- ifelse(df$y == 1, \"blue\", \"red\")\n",
        "\n",
        "# Plot the first two discriminant functions with custom colors based on df$y\n",
        "plot(\n",
        "  lda_scores[, 1], lda_scores[, 2],\n",
        "  col = colors,\n",
        "  pch = 19,\n",
        "  main = \"First Two Discriminant Functions\",\n",
        "  xlab = \"Discriminant 1\",\n",
        "  ylab = \"Discriminant 2\"\n",
        ")\n",
        "\n",
        "# Add a legend outside the plot area\n",
        "legend(\n",
        "  \"topright\",\n",
        "  legend = c(\"y = 0\", \"y = 1\"),\n",
        "  col = c(\"red\", \"blue\"),\n",
        "  pch = 19,\n",
        "  title = \"Outcome\",\n",
        "  xpd = TRUE,\n",
        "  bty = 'n'\n",
        ")\n",
        "\n",
        "# Reset margins to default\n",
        "par(mar = c(5, 4, 4, 2) + 0.1)\n"
      ]
    },
    {
      "cell_type": "markdown",
      "metadata": {
        "id": "K8R9YSFE-Rxm"
      },
      "source": [
        "#### Silhouette Score"
      ]
    },
    {
      "cell_type": "code",
      "execution_count": null,
      "metadata": {
        "vscode": {
          "languageId": "r"
        },
        "id": "RZtNaY9t-Rxn",
        "outputId": "193a10e3-0c06-481f-8bf8-edf0f41b6272"
      },
      "outputs": [
        {
          "name": "stdout",
          "output_type": "stream",
          "text": [
            "[1] 0.2489355\n"
          ]
        }
      ],
      "source": [
        "# Calculate silhouette score\n",
        "dist_matrix <- dist(df[, cols])\n",
        "silhouette_score <- silhouette(kmeans_result$cluster, dist_matrix)\n",
        "mean_silhouette_score <- mean(silhouette_score[, 3])\n",
        "\n",
        "# Print the mean silhouette score\n",
        "print(mean_silhouette_score)"
      ]
    },
    {
      "cell_type": "markdown",
      "metadata": {
        "id": "7mBcanOh-Rxn"
      },
      "source": [
        "#### DBI"
      ]
    },
    {
      "cell_type": "code",
      "execution_count": null,
      "metadata": {
        "vscode": {
          "languageId": "r"
        },
        "id": "Kx8fGok_-Rxn",
        "outputId": "bd0a2727-6ad0-4713-e7f4-31b161ad19c1"
      },
      "outputs": [
        {
          "data": {
            "text/html": [
              "1.02146897483982"
            ],
            "text/latex": [
              "1.02146897483982"
            ],
            "text/markdown": [
              "1.02146897483982"
            ],
            "text/plain": [
              "[1] 1.021469"
            ]
          },
          "metadata": {},
          "output_type": "display_data"
        }
      ],
      "source": [
        "index.DB(pc, df$kmeans_clust, d=NULL, centrotypes=\"centroids\", p=2, q=2)$DB"
      ]
    },
    {
      "cell_type": "markdown",
      "metadata": {
        "id": "h1jBRRzb-Rxn"
      },
      "source": [
        "# Kmedoids"
      ]
    },
    {
      "cell_type": "code",
      "execution_count": null,
      "metadata": {
        "vscode": {
          "languageId": "r"
        },
        "id": "NXHzZwu9-Rxn",
        "outputId": "a23b8a94-3525-43a5-adfa-3597dba0151c"
      },
      "outputs": [
        {
          "data": {
            "image/png": "[encoded data removed]",
            "text/plain": [
              "plot without title"
            ]
          },
          "metadata": {
            "image/png": {
              "height": 500,
              "width": 500
            }
          },
          "output_type": "display_data"
        }
      ],
      "source": [
        "fviz_nbclust(df[, cols], pam, method = 'wss')"
      ]
    },
    {
      "cell_type": "markdown",
      "metadata": {
        "id": "yjr-4Pr1-Rxn"
      },
      "source": [
        "## Base"
      ]
    },
    {
      "cell_type": "markdown",
      "metadata": {
        "id": "kKQ2qlf1-Rxo"
      },
      "source": [
        "### 3 Medoids"
      ]
    },
    {
      "cell_type": "code",
      "execution_count": null,
      "metadata": {
        "vscode": {
          "languageId": "r"
        },
        "id": "xIQ0ENoN-Rxo"
      },
      "outputs": [],
      "source": [
        "# Perform k-medoids clustering with the optimal number of clusters\n",
        "optimal_k <- 3 # Replace with the optimal number of clusters found from the plot\n",
        "kmedoids_result <- pam(df[, cols], k = optimal_k)\n",
        "df$kmedoids_clust <- kmedoids_result$clustering"
      ]
    },
    {
      "cell_type": "code",
      "execution_count": null,
      "metadata": {
        "vscode": {
          "languageId": "r"
        },
        "id": "c0XDDtPU-Rxo",
        "outputId": "4fc43113-bb7c-4025-8b4a-804d6b06b981"
      },
      "outputs": [
        {
          "data": {
            "image/png": "[encoded data removed]",
            "text/plain": [
              "Plot with title \"First Two Discriminant Functions\""
            ]
          },
          "metadata": {
            "image/png": {
              "height": 500,
              "width": 500
            }
          },
          "output_type": "display_data"
        }
      ],
      "source": [
        "# Compute discriminant functions\n",
        "lda_model <- lda(df[, cols], grouping = df$kmedoids_clust)\n",
        "lda_scores <- predict(lda_model)$x\n",
        "\n",
        "# Plot the first two discriminant functions\n",
        "options(repr.plot.width = 10, repr.plot.height = 10, repr.plot.res = 100)\n",
        "\n",
        "# Set up the plotting area\n",
        "par(mar = c(5, 5, 2, 7), xpd = TRUE)  # Adjust the margins and allow plotting outside the plot region\n",
        "\n",
        "# Plot the first two discriminant functions\n",
        "plot(lda_scores[, 1], lda_scores[, 2], col = df$kmeans_clust, main = \"First Two Discriminant Functions\", xlab = \"Discriminant 1\", ylab = \"Discriminant 2\")\n",
        "legend(\"topright\", inset = c(-0.25, 0), legend = paste(\"Cluster\", 1:3), col = 1:3, pch = 19, title = \"Clusters\", xpd = TRUE, bty='n')\n",
        "\n",
        "# Reset par to default\n",
        "par(mar = c(5, 4, 4, 2) + 0.1)  # Reset the margins to default"
      ]
    },
    {
      "cell_type": "code",
      "execution_count": null,
      "metadata": {
        "vscode": {
          "languageId": "r"
        },
        "id": "sWTUkotJ-Rxp",
        "outputId": "575a3c3a-a657-46e7-dc54-61865aafb396"
      },
      "outputs": [
        {
          "data": {
            "image/png": "[encoded data removed]",
            "text/plain": [
              "Plot with title \"First Two Discriminant Functions (K-medoids)\""
            ]
          },
          "metadata": {
            "image/png": {
              "height": 500,
              "width": 500
            }
          },
          "output_type": "display_data"
        }
      ],
      "source": [
        "# Compute discriminant functions\n",
        "lda_model <- lda(df[, cols], grouping = df$kmedoids_clust)\n",
        "lda_scores <- predict(lda_model)$x\n",
        "\n",
        "# Set up plot dimensions\n",
        "options(repr.plot.width = 10, repr.plot.height = 10, repr.plot.res = 100)\n",
        "\n",
        "# Set up the plotting area with adjusted margins\n",
        "par(mar = c(5, 5, 2, 7), xpd = TRUE)\n",
        "\n",
        "# Define colors: red for 0, blue for 1\n",
        "colors <- ifelse(df$y == 1, \"blue\", \"red\")\n",
        "\n",
        "# Plot the first two discriminant functions with custom colors based on df$y\n",
        "plot(\n",
        "    lda_scores[, 1], lda_scores[, 2],\n",
        "    col = colors,\n",
        "    pch = 19,\n",
        "    main = \"First Two Discriminant Functions (K-medoids)\",\n",
        "    xlab = \"Discriminant 1\",\n",
        "    ylab = \"Discriminant 2\"\n",
        ")\n",
        "\n",
        "# Add a legend outside the plot area\n",
        "legend(\n",
        "    \"topright\",\n",
        "    legend = c(\"y = 0\", \"y = 1\"),\n",
        "    col = c(\"red\", \"blue\"),\n",
        "    pch = 19,\n",
        "    title = \"Outcome\",\n",
        "    xpd = TRUE,\n",
        "    bty = 'n'\n",
        ")\n",
        "\n",
        "# Reset margins to default\n",
        "par(mar = c(5, 4, 4, 2) + 0.1)"
      ]
    },
    {
      "cell_type": "markdown",
      "metadata": {
        "id": "ZVdiUJJh-Rxp"
      },
      "source": [
        "#### Silhouette"
      ]
    },
    {
      "cell_type": "code",
      "execution_count": null,
      "metadata": {
        "vscode": {
          "languageId": "r"
        },
        "id": "yyjyfCxK-Rxp",
        "outputId": "5e94d34d-91a4-4241-ffb9-deb342a8acd1"
      },
      "outputs": [
        {
          "name": "stdout",
          "output_type": "stream",
          "text": [
            "[1] 0.1331244\n"
          ]
        }
      ],
      "source": [
        "# Calculate silhouette score\n",
        "dist_matrix <- dist(df[, cols])\n",
        "silhouette_score <- silhouette(kmedoids_result$cluster, dist_matrix)\n",
        "mean_silhouette_score <- mean(silhouette_score[, 3])\n",
        "\n",
        "# Print the mean silhouette score\n",
        "print(mean_silhouette_score)"
      ]
    },
    {
      "cell_type": "markdown",
      "metadata": {
        "id": "4x0himtN-Rxp"
      },
      "source": [
        "#### DBI"
      ]
    },
    {
      "cell_type": "code",
      "execution_count": null,
      "metadata": {
        "vscode": {
          "languageId": "r"
        },
        "id": "k8--Vk-x-Rxp",
        "outputId": "2d10b769-a82c-4d7b-d857-8bf7502fde6e"
      },
      "outputs": [
        {
          "data": {
            "text/html": [
              "2.09255836311496"
            ],
            "text/latex": [
              "2.09255836311496"
            ],
            "text/markdown": [
              "2.09255836311496"
            ],
            "text/plain": [
              "[1] 2.092558"
            ]
          },
          "metadata": {},
          "output_type": "display_data"
        }
      ],
      "source": [
        "index.DB(df[, cols], df$kmedoids_clust, d=dist_matrix, centrotypes=\"medoids\", p=2, q=2)$DB"
      ]
    },
    {
      "cell_type": "markdown",
      "metadata": {
        "id": "6ISp1Sua-Rxp"
      },
      "source": [
        "### 4 Medoids"
      ]
    },
    {
      "cell_type": "code",
      "execution_count": null,
      "metadata": {
        "vscode": {
          "languageId": "r"
        },
        "id": "yZNtV_oo-Rxq"
      },
      "outputs": [],
      "source": [
        "# Perform k-medoids clustering with the optimal number of clusters\n",
        "optimal_k <- 4 # Replace with the optimal number of clusters found from the plot\n",
        "kmedoids_result <- pam(df[, cols], k = optimal_k)\n",
        "df$kmedoids_clust <- kmedoids_result$clustering"
      ]
    },
    {
      "cell_type": "code",
      "execution_count": null,
      "metadata": {
        "vscode": {
          "languageId": "r"
        },
        "id": "YFAhcjag-Rxq",
        "outputId": "03634875-14a5-4336-8177-c7e89937bf0f"
      },
      "outputs": [
        {
          "data": {
            "image/png": "[encoded data removed]",
            "text/plain": [
              "Plot with title \"First Two Discriminant Functions\""
            ]
          },
          "metadata": {
            "image/png": {
              "height": 500,
              "width": 500
            }
          },
          "output_type": "display_data"
        }
      ],
      "source": [
        "# Compute discriminant functions\n",
        "lda_model <- lda(df[, cols], grouping = df$kmedoids_clust)\n",
        "lda_scores <- predict(lda_model)$x\n",
        "\n",
        "# Plot the first two discriminant functions\n",
        "options(repr.plot.width = 10, repr.plot.height = 10, repr.plot.res = 100)\n",
        "\n",
        "# Set up the plotting area\n",
        "par(mar = c(5, 5, 2, 7), xpd = TRUE)  # Adjust the margins and allow plotting outside the plot region\n",
        "\n",
        "# Plot the first two discriminant functions\n",
        "plot(lda_scores[, 1], lda_scores[, 2], col = df$kmeans_clust, main = \"First Two Discriminant Functions\", xlab = \"Discriminant 1\", ylab = \"Discriminant 2\")\n",
        "legend(\"topright\", inset = c(-0.25, 0), legend = paste(\"Cluster\", 1:4), col = 1:4, pch = 19, title = \"Clusters\", xpd = TRUE, bty='n')\n",
        "\n",
        "# Reset par to default\n",
        "par(mar = c(5, 4, 4, 2) + 0.1)  # Reset the margins to default"
      ]
    },
    {
      "cell_type": "code",
      "execution_count": null,
      "metadata": {
        "vscode": {
          "languageId": "r"
        },
        "id": "-A7VeU6y-Rxq",
        "outputId": "5cb0e3c2-7773-4fed-fc08-c3fa400624b9"
      },
      "outputs": [
        {
          "data": {
            "image/png": "[encoded data removed]",
            "text/plain": [
              "Plot with title \"First Two Discriminant Functions (K-medoids)\""
            ]
          },
          "metadata": {
            "image/png": {
              "height": 500,
              "width": 500
            }
          },
          "output_type": "display_data"
        }
      ],
      "source": [
        "# Compute discriminant functions\n",
        "lda_model <- lda(df[, cols], grouping = df$kmedoids_clust)\n",
        "lda_scores <- predict(lda_model)$x\n",
        "\n",
        "# Set up plot dimensions\n",
        "options(repr.plot.width = 10, repr.plot.height = 10, repr.plot.res = 100)\n",
        "\n",
        "# Set up the plotting area with adjusted margins\n",
        "par(mar = c(5, 5, 2, 7), xpd = TRUE)\n",
        "\n",
        "# Define colors: red for 0, blue for 1\n",
        "colors <- ifelse(df$y == 1, \"blue\", \"red\")\n",
        "\n",
        "# Plot the first two discriminant functions with custom colors based on df$y\n",
        "plot(\n",
        "    lda_scores[, 1], lda_scores[, 2],\n",
        "    col = colors,\n",
        "    pch = 19,\n",
        "    main = \"First Two Discriminant Functions (K-medoids)\",\n",
        "    xlab = \"Discriminant 1\",\n",
        "    ylab = \"Discriminant 2\"\n",
        ")\n",
        "\n",
        "# Add a legend outside the plot area\n",
        "legend(\n",
        "    \"topright\",\n",
        "    legend = c(\"y = 0\", \"y = 1\"),\n",
        "    col = c(\"red\", \"blue\"),\n",
        "    pch = 19,\n",
        "    title = \"Outcome\",\n",
        "    xpd = TRUE,\n",
        "    bty = 'n'\n",
        ")\n",
        "\n",
        "# Reset margins to default\n",
        "par(mar = c(5, 4, 4, 2) + 0.1)"
      ]
    },
    {
      "cell_type": "markdown",
      "metadata": {
        "id": "VN_C46Z5-Rxr"
      },
      "source": [
        "#### Silhouette"
      ]
    },
    {
      "cell_type": "code",
      "execution_count": null,
      "metadata": {
        "vscode": {
          "languageId": "r"
        },
        "id": "LU85drRe-Rxr",
        "outputId": "6a297e91-bb57-42b0-da75-cf5fdc417f25"
      },
      "outputs": [
        {
          "name": "stdout",
          "output_type": "stream",
          "text": [
            "[1] 0.1493789\n"
          ]
        }
      ],
      "source": [
        "# Calculate silhouette score\n",
        "dist_matrix <- dist(df[, cols])\n",
        "silhouette_score <- silhouette(kmedoids_result$cluster, dist_matrix)\n",
        "mean_silhouette_score <- mean(silhouette_score[, 3])\n",
        "\n",
        "# Print the mean silhouette score\n",
        "print(mean_silhouette_score)"
      ]
    },
    {
      "cell_type": "markdown",
      "metadata": {
        "id": "2eSrRSBU-Rxr"
      },
      "source": [
        "#### DBI"
      ]
    },
    {
      "cell_type": "code",
      "execution_count": null,
      "metadata": {
        "vscode": {
          "languageId": "r"
        },
        "id": "f2PNqmYB-Rxr",
        "outputId": "6dc08bcc-4353-4439-a52d-a0efd1764ef1"
      },
      "outputs": [
        {
          "data": {
            "text/html": [
              "1.81559187110792"
            ],
            "text/latex": [
              "1.81559187110792"
            ],
            "text/markdown": [
              "1.81559187110792"
            ],
            "text/plain": [
              "[1] 1.815592"
            ]
          },
          "metadata": {},
          "output_type": "display_data"
        }
      ],
      "source": [
        "index.DB(df[, cols], df$kmedoids_clust, d=dist_matrix, centrotypes=\"medoids\", p=2, q=2)$DB"
      ]
    },
    {
      "cell_type": "markdown",
      "metadata": {
        "id": "HsvfotPW-Rxr"
      },
      "source": [
        "### 5 Medoids"
      ]
    },
    {
      "cell_type": "code",
      "execution_count": null,
      "metadata": {
        "vscode": {
          "languageId": "r"
        },
        "id": "xJ9fNGEk-Rxr"
      },
      "outputs": [],
      "source": [
        "# Perform k-medoids clustering with the optimal number of clusters\n",
        "optimal_k <- 5 # Replace with the optimal number of clusters found from the plot\n",
        "kmedoids_result <- pam(df[, cols], k = optimal_k)\n",
        "df$kmedoids_clust <- kmedoids_result$clustering"
      ]
    },
    {
      "cell_type": "code",
      "execution_count": null,
      "metadata": {
        "vscode": {
          "languageId": "r"
        },
        "id": "_pBr0mqS-Rxr",
        "outputId": "ca0fd208-5aee-4233-e6f1-fc5bc7e19136"
      },
      "outputs": [
        {
          "data": {
            "image/png": "[encoded data removed]",
            "text/plain": [
              "Plot with title \"First Two Discriminant Functions\""
            ]
          },
          "metadata": {
            "image/png": {
              "height": 500,
              "width": 500
            }
          },
          "output_type": "display_data"
        }
      ],
      "source": [
        "# Compute discriminant functions\n",
        "lda_model <- lda(df[, cols], grouping = df$kmedoids_clust)\n",
        "lda_scores <- predict(lda_model)$x\n",
        "\n",
        "# Plot the first two discriminant functions\n",
        "options(repr.plot.width = 10, repr.plot.height = 10, repr.plot.res = 100)\n",
        "\n",
        "# Set up the plotting area\n",
        "par(mar = c(5, 5, 2, 7), xpd = TRUE)  # Adjust the margins and allow plotting outside the plot region\n",
        "\n",
        "# Plot the first two discriminant functions\n",
        "plot(lda_scores[, 1], lda_scores[, 2], col = df$kmeans_clust, main = \"First Two Discriminant Functions\", xlab = \"Discriminant 1\", ylab = \"Discriminant 2\")\n",
        "legend(\"topright\", inset = c(-0.25, 0), legend = paste(\"Cluster\", 1:5), col = 1:5, pch = 19, title = \"Clusters\", xpd = TRUE, bty='n')\n",
        "\n",
        "# Reset par to default\n",
        "par(mar = c(5, 4, 4, 2) + 0.1)  # Reset the margins to default"
      ]
    },
    {
      "cell_type": "code",
      "execution_count": null,
      "metadata": {
        "vscode": {
          "languageId": "r"
        },
        "id": "O60ikYwp-Rxs",
        "outputId": "f741e744-94e2-4b5e-bdb5-519ad9113435"
      },
      "outputs": [
        {
          "data": {
            "image/png": "[encoded data removed]",
            "text/plain": [
              "Plot with title \"First Two Discriminant Functions (K-medoids)\""
            ]
          },
          "metadata": {
            "image/png": {
              "height": 500,
              "width": 500
            }
          },
          "output_type": "display_data"
        }
      ],
      "source": [
        "# Compute discriminant functions\n",
        "lda_model <- lda(df[, cols], grouping = df$kmedoids_clust)\n",
        "lda_scores <- predict(lda_model)$x\n",
        "\n",
        "# Set up plot dimensions\n",
        "options(repr.plot.width = 10, repr.plot.height = 10, repr.plot.res = 100)\n",
        "\n",
        "# Set up the plotting area with adjusted margins\n",
        "par(mar = c(5, 5, 2, 7), xpd = TRUE)\n",
        "\n",
        "# Define colors: red for 0, blue for 1\n",
        "colors <- ifelse(df$y == 1, \"blue\", \"red\")\n",
        "\n",
        "# Plot the first two discriminant functions with custom colors based on df$y\n",
        "plot(\n",
        "    lda_scores[, 1], lda_scores[, 2],\n",
        "    col = colors,\n",
        "    pch = 19,\n",
        "    main = \"First Two Discriminant Functions (K-medoids)\",\n",
        "    xlab = \"Discriminant 1\",\n",
        "    ylab = \"Discriminant 2\"\n",
        ")\n",
        "\n",
        "# Add a legend outside the plot area\n",
        "legend(\n",
        "    \"topright\",\n",
        "    legend = c(\"y = 0\", \"y = 1\"),\n",
        "    col = c(\"red\", \"blue\"),\n",
        "    pch = 19,\n",
        "    title = \"Outcome\",\n",
        "    xpd = TRUE,\n",
        "    bty = 'n'\n",
        ")\n",
        "\n",
        "# Reset margins to default\n",
        "par(mar = c(5, 4, 4, 2) + 0.1)"
      ]
    },
    {
      "cell_type": "markdown",
      "metadata": {
        "id": "zEuHgJYx-Rxt"
      },
      "source": [
        "#### Silhouette"
      ]
    },
    {
      "cell_type": "code",
      "execution_count": null,
      "metadata": {
        "vscode": {
          "languageId": "r"
        },
        "id": "SZDfhEk8-Rxt",
        "outputId": "4cc90e44-0075-496c-e5a2-9f11e680decf"
      },
      "outputs": [
        {
          "name": "stdout",
          "output_type": "stream",
          "text": [
            "[1] 0.143475\n"
          ]
        }
      ],
      "source": [
        "# Calculate silhouette score\n",
        "dist_matrix <- dist(df[, cols])\n",
        "silhouette_score <- silhouette(kmedoids_result$cluster, dist_matrix)\n",
        "mean_silhouette_score <- mean(silhouette_score[, 3])\n",
        "\n",
        "# Print the mean silhouette score\n",
        "print(mean_silhouette_score)"
      ]
    },
    {
      "cell_type": "markdown",
      "metadata": {
        "id": "Y6V-fO4h-Rxt"
      },
      "source": [
        "#### DBI"
      ]
    },
    {
      "cell_type": "code",
      "execution_count": null,
      "metadata": {
        "vscode": {
          "languageId": "r"
        },
        "id": "Oe_h2uxM-Rxt",
        "outputId": "ecf6c705-8181-4550-b931-7256b716d8b3"
      },
      "outputs": [
        {
          "data": {
            "text/html": [
              "1.87206285752324"
            ],
            "text/latex": [
              "1.87206285752324"
            ],
            "text/markdown": [
              "1.87206285752324"
            ],
            "text/plain": [
              "[1] 1.872063"
            ]
          },
          "metadata": {},
          "output_type": "display_data"
        }
      ],
      "source": [
        "index.DB(df[, cols], df$kmedoids_clust, d=dist_matrix, centrotypes=\"medoids\", p=2, q=2)$DB"
      ]
    },
    {
      "cell_type": "markdown",
      "metadata": {
        "id": "Zd1JloS1-Rxu"
      },
      "source": [
        "## PCA"
      ]
    },
    {
      "cell_type": "code",
      "execution_count": null,
      "metadata": {
        "vscode": {
          "languageId": "r"
        },
        "id": "Ocx7V0Lv-Rxv",
        "outputId": "d627c62f-0078-4ef8-e609-7ffc29c12644"
      },
      "outputs": [
        {
          "data": {
            "image/png": "[encoded data removed]",
            "text/plain": [
              "plot without title"
            ]
          },
          "metadata": {
            "image/png": {
              "height": 500,
              "width": 500
            }
          },
          "output_type": "display_data"
        }
      ],
      "source": [
        "fviz_nbclust(pc, pam, method = 'wss')"
      ]
    },
    {
      "cell_type": "markdown",
      "metadata": {
        "id": "NOuhTJe0-Rxv"
      },
      "source": [
        "### 3 Medoids"
      ]
    },
    {
      "cell_type": "code",
      "execution_count": null,
      "metadata": {
        "vscode": {
          "languageId": "r"
        },
        "id": "TZpUcRlk-Rxv"
      },
      "outputs": [],
      "source": [
        "# Perform k-medoids clustering with the optimal number of clusters\n",
        "optimal_k <- 3 # Replace with the optimal number of clusters found from the plot\n",
        "kmedoids_result <- pam(pc, k = optimal_k)\n",
        "df$kmedoids_clust <- kmedoids_result$clustering"
      ]
    },
    {
      "cell_type": "code",
      "execution_count": null,
      "metadata": {
        "vscode": {
          "languageId": "r"
        },
        "id": "32ewuZeB-Rxv",
        "outputId": "1687dabd-42f2-44f9-bd18-1313832a78b2"
      },
      "outputs": [
        {
          "data": {
            "image/png": "[encoded data removed]",
            "text/plain": [
              "Plot with title \"First Two Discriminant Functions\""
            ]
          },
          "metadata": {
            "image/png": {
              "height": 500,
              "width": 500
            }
          },
          "output_type": "display_data"
        }
      ],
      "source": [
        "# Compute discriminant functions\n",
        "lda_model <- lda(pc, grouping = df$kmedoids_clust)\n",
        "lda_scores <- predict(lda_model)$x\n",
        "\n",
        "# Plot the first two discriminant functions\n",
        "options(repr.plot.width = 10, repr.plot.height = 10, repr.plot.res = 100)\n",
        "\n",
        "# Set up the plotting area\n",
        "par(mar = c(5, 5, 2, 7), xpd = TRUE)  # Adjust the margins and allow plotting outside the plot region\n",
        "\n",
        "# Plot the first two discriminant functions\n",
        "plot(lda_scores[, 1], lda_scores[, 2], col = df$kmeans_clust, main = \"First Two Discriminant Functions\", xlab = \"Discriminant 1\", ylab = \"Discriminant 2\")\n",
        "legend(\"topright\", inset = c(-0.25, 0), legend = paste(\"Cluster\", 1:3), col = 1:3, pch = 19, title = \"Clusters\", xpd = TRUE, bty='n')\n",
        "\n",
        "# Reset par to default\n",
        "par(mar = c(5, 4, 4, 2) + 0.1)  # Reset the margins to default"
      ]
    },
    {
      "cell_type": "code",
      "execution_count": null,
      "metadata": {
        "vscode": {
          "languageId": "r"
        },
        "id": "CeRUoeO6-Rxw",
        "outputId": "05dfd068-0ae0-46dd-8190-1aa3b123e06d"
      },
      "outputs": [
        {
          "data": {
            "image/png": "[encoded data removed]",
            "text/plain": [
              "Plot with title \"First Two Discriminant Functions (K-medoids)\""
            ]
          },
          "metadata": {
            "image/png": {
              "height": 500,
              "width": 500
            }
          },
          "output_type": "display_data"
        }
      ],
      "source": [
        "# Compute discriminant functions\n",
        "lda_model <- lda(pc, grouping = df$kmedoids_clust)\n",
        "lda_scores <- predict(lda_model)$x\n",
        "\n",
        "# Set up plot dimensions\n",
        "options(repr.plot.width = 10, repr.plot.height = 10, repr.plot.res = 100)\n",
        "\n",
        "# Set up the plotting area with adjusted margins\n",
        "par(mar = c(5, 5, 2, 7), xpd = TRUE)\n",
        "\n",
        "# Define colors: red for 0, blue for 1\n",
        "colors <- ifelse(df$y == 1, \"blue\", \"red\")\n",
        "\n",
        "# Plot the first two discriminant functions with custom colors based on df$y\n",
        "plot(\n",
        "    lda_scores[, 1], lda_scores[, 2],\n",
        "    col = colors,\n",
        "    pch = 19,\n",
        "    main = \"First Two Discriminant Functions (K-medoids)\",\n",
        "    xlab = \"Discriminant 1\",\n",
        "    ylab = \"Discriminant 2\"\n",
        ")\n",
        "\n",
        "# Add a legend outside the plot area\n",
        "legend(\n",
        "    \"topright\",\n",
        "    legend = c(\"y = 0\", \"y = 1\"),\n",
        "    col = c(\"red\", \"blue\"),\n",
        "    pch = 19,\n",
        "    title = \"Outcome\",\n",
        "    xpd = TRUE,\n",
        "    bty = 'n'\n",
        ")\n",
        "\n",
        "# Reset margins to default\n",
        "par(mar = c(5, 4, 4, 2) + 0.1)"
      ]
    },
    {
      "cell_type": "markdown",
      "metadata": {
        "id": "wIfAzjyF-Rxw"
      },
      "source": [
        "#### Silhouette"
      ]
    },
    {
      "cell_type": "code",
      "execution_count": null,
      "metadata": {
        "vscode": {
          "languageId": "r"
        },
        "id": "laJ6WHNS-Rxx",
        "outputId": "db825b70-578e-48c9-abbf-6dd3b9c4023f"
      },
      "outputs": [
        {
          "name": "stdout",
          "output_type": "stream",
          "text": [
            "[1] 0.2027242\n"
          ]
        }
      ],
      "source": [
        "# Calculate silhouette score\n",
        "dist_matrix <- dist(pc)\n",
        "silhouette_score <- silhouette(kmedoids_result$cluster, dist_matrix)\n",
        "mean_silhouette_score <- mean(silhouette_score[, 3])\n",
        "\n",
        "# Print the mean silhouette score\n",
        "print(mean_silhouette_score)"
      ]
    },
    {
      "cell_type": "markdown",
      "metadata": {
        "id": "f0SsqArO-Rxy"
      },
      "source": [
        "#### DBI"
      ]
    },
    {
      "cell_type": "code",
      "execution_count": null,
      "metadata": {
        "vscode": {
          "languageId": "r"
        },
        "id": "dzJngixW-Rxy",
        "outputId": "0c9d4452-5fea-41ca-c720-c6d714a4e26a"
      },
      "outputs": [
        {
          "data": {
            "text/html": [
              "2.17774657432373"
            ],
            "text/latex": [
              "2.17774657432373"
            ],
            "text/markdown": [
              "2.17774657432373"
            ],
            "text/plain": [
              "[1] 2.177747"
            ]
          },
          "metadata": {},
          "output_type": "display_data"
        }
      ],
      "source": [
        "index.DB(pc, df$kmedoids_clust, d=dist_matrix, centrotypes=\"medoids\", p=2, q=2)$DB"
      ]
    },
    {
      "cell_type": "markdown",
      "metadata": {
        "id": "e6D30VPc-Rxz"
      },
      "source": [
        "### 4 Medoids"
      ]
    },
    {
      "cell_type": "code",
      "execution_count": null,
      "metadata": {
        "vscode": {
          "languageId": "r"
        },
        "id": "hBy7r1uI-Rxz"
      },
      "outputs": [],
      "source": [
        "# Perform k-medoids clustering with the optimal number of clusters\n",
        "optimal_k <- 4 # Replace with the optimal number of clusters found from the plot\n",
        "kmedoids_result <- pam(pc, k = optimal_k)\n",
        "df$kmedoids_clust <- kmedoids_result$clustering"
      ]
    },
    {
      "cell_type": "code",
      "execution_count": null,
      "metadata": {
        "vscode": {
          "languageId": "r"
        },
        "id": "oqHv3yr2-Rxz",
        "outputId": "61512922-dbf4-43be-a690-46164314fcdf"
      },
      "outputs": [
        {
          "data": {
            "image/png": "[encoded data removed]",
            "text/plain": [
              "Plot with title \"First Two Discriminant Functions\""
            ]
          },
          "metadata": {
            "image/png": {
              "height": 500,
              "width": 500
            }
          },
          "output_type": "display_data"
        }
      ],
      "source": [
        "# Compute discriminant functions\n",
        "lda_model <- lda(pc, grouping = df$kmedoids_clust)\n",
        "lda_scores <- predict(lda_model)$x\n",
        "\n",
        "# Plot the first two discriminant functions\n",
        "options(repr.plot.width = 10, repr.plot.height = 10, repr.plot.res = 100)\n",
        "\n",
        "# Set up the plotting area\n",
        "par(mar = c(5, 5, 2, 7), xpd = TRUE)  # Adjust the margins and allow plotting outside the plot region\n",
        "\n",
        "# Plot the first two discriminant functions\n",
        "plot(lda_scores[, 1], lda_scores[, 2], col = df$kmeans_clust, main = \"First Two Discriminant Functions\", xlab = \"Discriminant 1\", ylab = \"Discriminant 2\")\n",
        "legend(\"topright\", inset = c(-0.25, 0), legend = paste(\"Cluster\", 1:3), col = 1:3, pch = 19, title = \"Clusters\", xpd = TRUE, bty='n')\n",
        "\n",
        "# Reset par to default\n",
        "par(mar = c(5, 4, 4, 2) + 0.1)  # Reset the margins to default"
      ]
    },
    {
      "cell_type": "code",
      "execution_count": null,
      "metadata": {
        "vscode": {
          "languageId": "r"
        },
        "id": "hGGKgJW2-Rxz",
        "outputId": "c6139b6b-3e21-4642-e67e-09fc0af985b3"
      },
      "outputs": [
        {
          "data": {
            "image/png": "[encoded data removed]",
            "text/plain": [
              "Plot with title \"First Two Discriminant Functions (K-medoids)\""
            ]
          },
          "metadata": {
            "image/png": {
              "height": 500,
              "width": 500
            }
          },
          "output_type": "display_data"
        }
      ],
      "source": [
        "# Compute discriminant functions\n",
        "lda_model <- lda(pc, grouping = df$kmedoids_clust)\n",
        "lda_scores <- predict(lda_model)$x\n",
        "\n",
        "# Set up plot dimensions\n",
        "options(repr.plot.width = 10, repr.plot.height = 10, repr.plot.res = 100)\n",
        "\n",
        "# Set up the plotting area with adjusted margins\n",
        "par(mar = c(5, 5, 2, 7), xpd = TRUE)\n",
        "\n",
        "# Define colors: red for 0, blue for 1\n",
        "colors <- ifelse(df$y == 1, \"blue\", \"red\")\n",
        "\n",
        "# Plot the first two discriminant functions with custom colors based on df$y\n",
        "plot(\n",
        "    lda_scores[, 1], lda_scores[, 2],\n",
        "    col = colors,\n",
        "    pch = 19,\n",
        "    main = \"First Two Discriminant Functions (K-medoids)\",\n",
        "    xlab = \"Discriminant 1\",\n",
        "    ylab = \"Discriminant 2\"\n",
        ")\n",
        "\n",
        "# Add a legend outside the plot area\n",
        "legend(\n",
        "    \"topright\",\n",
        "    legend = c(\"y = 0\", \"y = 1\"),\n",
        "    col = c(\"red\", \"blue\"),\n",
        "    pch = 19,\n",
        "    title = \"Outcome\",\n",
        "    xpd = TRUE,\n",
        "    bty = 'n'\n",
        ")\n",
        "\n",
        "# Reset margins to default\n",
        "par(mar = c(5, 4, 4, 2) + 0.1)"
      ]
    },
    {
      "cell_type": "markdown",
      "metadata": {
        "id": "fQNMvqpf-Rxz"
      },
      "source": [
        "#### Silhouette"
      ]
    },
    {
      "cell_type": "code",
      "execution_count": null,
      "metadata": {
        "vscode": {
          "languageId": "r"
        },
        "id": "hvDKfMS_-Rxz",
        "outputId": "397a624a-0c21-46ae-9bc0-c8731d9f36b2"
      },
      "outputs": [
        {
          "name": "stdout",
          "output_type": "stream",
          "text": [
            "[1] 0.2019829\n"
          ]
        }
      ],
      "source": [
        "# Calculate silhouette score\n",
        "dist_matrix <- dist(pc)\n",
        "silhouette_score <- silhouette(kmedoids_result$cluster, dist_matrix)\n",
        "mean_silhouette_score <- mean(silhouette_score[, 3])\n",
        "\n",
        "# Print the mean silhouette score\n",
        "print(mean_silhouette_score)"
      ]
    },
    {
      "cell_type": "markdown",
      "metadata": {
        "id": "HPVtS1Qz-Rxz"
      },
      "source": [
        "#### DBI"
      ]
    },
    {
      "cell_type": "code",
      "execution_count": null,
      "metadata": {
        "vscode": {
          "languageId": "r"
        },
        "id": "LGeBFIJ3-Rxz",
        "outputId": "4fe5cbf0-f1bc-4491-ec1c-e53ad47fb9c8"
      },
      "outputs": [
        {
          "data": {
            "text/html": [
              "1.66518026810746"
            ],
            "text/latex": [
              "1.66518026810746"
            ],
            "text/markdown": [
              "1.66518026810746"
            ],
            "text/plain": [
              "[1] 1.66518"
            ]
          },
          "metadata": {},
          "output_type": "display_data"
        }
      ],
      "source": [
        "index.DB(pc, df$kmedoids_clust, d=dist_matrix, centrotypes=\"medoids\", p=2, q=2)$DB"
      ]
    },
    {
      "cell_type": "markdown",
      "metadata": {
        "id": "l0GFfkYF-Rx0"
      },
      "source": [
        "### 5 Medoids"
      ]
    },
    {
      "cell_type": "code",
      "execution_count": null,
      "metadata": {
        "vscode": {
          "languageId": "r"
        },
        "id": "M6rdceV9-Rx0"
      },
      "outputs": [],
      "source": [
        "# Perform k-medoids clustering with the optimal number of clusters\n",
        "optimal_k <- 5 # Replace with the optimal number of clusters found from the plot\n",
        "kmedoids_result <- pam(pc, k = optimal_k)\n",
        "df$kmedoids_clust <- kmedoids_result$clustering"
      ]
    },
    {
      "cell_type": "code",
      "execution_count": null,
      "metadata": {
        "vscode": {
          "languageId": "r"
        },
        "id": "dcRwgpM8-Rx0",
        "outputId": "923afd8c-39c1-465b-87ba-39914b3e5a98"
      },
      "outputs": [
        {
          "data": {
            "image/png": "[encoded data removed]",
            "text/plain": [
              "Plot with title \"First Two Discriminant Functions\""
            ]
          },
          "metadata": {
            "image/png": {
              "height": 500,
              "width": 500
            }
          },
          "output_type": "display_data"
        }
      ],
      "source": [
        "# Compute discriminant functions\n",
        "lda_model <- lda(pc, grouping = df$kmedoids_clust)\n",
        "lda_scores <- predict(lda_model)$x\n",
        "\n",
        "# Plot the first two discriminant functions\n",
        "options(repr.plot.width = 10, repr.plot.height = 10, repr.plot.res = 100)\n",
        "\n",
        "# Set up the plotting area\n",
        "par(mar = c(5, 5, 2, 7), xpd = TRUE)  # Adjust the margins and allow plotting outside the plot region\n",
        "\n",
        "# Plot the first two discriminant functions\n",
        "plot(lda_scores[, 1], lda_scores[, 2], col = df$kmeans_clust, main = \"First Two Discriminant Functions\", xlab = \"Discriminant 1\", ylab = \"Discriminant 2\")\n",
        "legend(\"topright\", inset = c(-0.25, 0), legend = paste(\"Cluster\", 1:5), col = 1:5, pch = 19, title = \"Clusters\", xpd = TRUE, bty='n')\n",
        "\n",
        "# Reset par to default\n",
        "par(mar = c(5, 4, 4, 2) + 0.1)  # Reset the margins to default"
      ]
    },
    {
      "cell_type": "code",
      "execution_count": null,
      "metadata": {
        "vscode": {
          "languageId": "r"
        },
        "id": "SeqP6lfP-Rx0",
        "outputId": "af60c117-d20f-47af-d4f6-ade088fc9e0d"
      },
      "outputs": [
        {
          "data": {
            "image/png": "[encoded data removed]",
            "text/plain": [
              "Plot with title \"First Two Discriminant Functions (K-medoids)\""
            ]
          },
          "metadata": {
            "image/png": {
              "height": 500,
              "width": 500
            }
          },
          "output_type": "display_data"
        }
      ],
      "source": [
        "# Compute discriminant functions\n",
        "lda_model <- lda(pc, grouping = df$kmedoids_clust)\n",
        "lda_scores <- predict(lda_model)$x\n",
        "\n",
        "# Set up plot dimensions\n",
        "options(repr.plot.width = 10, repr.plot.height = 10, repr.plot.res = 100)\n",
        "\n",
        "# Set up the plotting area with adjusted margins\n",
        "par(mar = c(5, 5, 2, 7), xpd = TRUE)\n",
        "\n",
        "# Define colors: red for 0, blue for 1\n",
        "colors <- ifelse(df$y == 1, \"blue\", \"red\")\n",
        "\n",
        "# Plot the first two discriminant functions with custom colors based on df$y\n",
        "plot(\n",
        "    lda_scores[, 1], lda_scores[, 2],\n",
        "    col = colors,\n",
        "    pch = 19,\n",
        "    main = \"First Two Discriminant Functions (K-medoids)\",\n",
        "    xlab = \"Discriminant 1\",\n",
        "    ylab = \"Discriminant 2\"\n",
        ")\n",
        "\n",
        "# Add a legend outside the plot area\n",
        "legend(\n",
        "    \"topright\",\n",
        "    legend = c(\"y = 0\", \"y = 1\"),\n",
        "    col = c(\"red\", \"blue\"),\n",
        "    pch = 19,\n",
        "    title = \"Outcome\",\n",
        "    xpd = TRUE,\n",
        "    bty = 'n'\n",
        ")\n",
        "\n",
        "# Reset margins to default\n",
        "par(mar = c(5, 4, 4, 2) + 0.1)"
      ]
    },
    {
      "cell_type": "markdown",
      "metadata": {
        "id": "-o79AzUx-Rx0"
      },
      "source": [
        "#### Silhouette"
      ]
    },
    {
      "cell_type": "code",
      "execution_count": null,
      "metadata": {
        "vscode": {
          "languageId": "r"
        },
        "id": "RM8ld8TS-Rx0",
        "outputId": "de573b4d-db19-45cb-9f6a-604a3e7b63be"
      },
      "outputs": [
        {
          "name": "stdout",
          "output_type": "stream",
          "text": [
            "[1] 0.188238\n"
          ]
        }
      ],
      "source": [
        "# Calculate silhouette score\n",
        "dist_matrix <- dist(pc)\n",
        "silhouette_score <- silhouette(kmedoids_result$cluster, dist_matrix)\n",
        "mean_silhouette_score <- mean(silhouette_score[, 3])\n",
        "\n",
        "# Print the mean silhouette score\n",
        "print(mean_silhouette_score)"
      ]
    },
    {
      "cell_type": "markdown",
      "metadata": {
        "id": "tuAz5Q0z-Rx0"
      },
      "source": [
        "#### DBI"
      ]
    },
    {
      "cell_type": "code",
      "execution_count": null,
      "metadata": {
        "vscode": {
          "languageId": "r"
        },
        "id": "StP877dk-Rx1",
        "outputId": "55bf5dd3-de96-4465-9a75-6fd6bd9030f3"
      },
      "outputs": [
        {
          "data": {
            "text/html": [
              "1.68435163438584"
            ],
            "text/latex": [
              "1.68435163438584"
            ],
            "text/markdown": [
              "1.68435163438584"
            ],
            "text/plain": [
              "[1] 1.684352"
            ]
          },
          "metadata": {},
          "output_type": "display_data"
        }
      ],
      "source": [
        "index.DB(pc, df$kmedoids_clust, d=dist_matrix, centrotypes=\"medoids\", p=2, q=2)$DB"
      ]
    }
  ],
  "metadata": {
    "kernelspec": {
      "display_name": "R",
      "language": "R",
      "name": "ir"
    },
    "language_info": {
      "codemirror_mode": "r",
      "file_extension": ".r",
      "mimetype": "text/x-r-source",
      "name": "R",
      "pygments_lexer": "r",
      "version": "4.4.0"
    },
    "colab": {
      "provenance": [],
      "toc_visible": true
    }
  },
  "nbformat": 4,
  "nbformat_minor": 0
}